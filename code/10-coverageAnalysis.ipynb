{
 "cells": [
  {
   "cell_type": "markdown",
   "source": [
    "# Analyzing the coverage results"
   ],
   "metadata": {
    "collapsed": false
   }
  },
  {
   "cell_type": "markdown",
   "source": [
    "### Importing the libs"
   ],
   "metadata": {
    "collapsed": false
   }
  },
  {
   "cell_type": "code",
   "execution_count": 24,
   "metadata": {
    "collapsed": true,
    "ExecuteTime": {
     "end_time": "2023-09-14T18:04:46.400596Z",
     "start_time": "2023-09-14T18:04:46.289602Z"
    }
   },
   "outputs": [],
   "source": [
    "# Supressing the warnings\n",
    "options(warn = -1)\n",
    "\n",
    "# Importing the libs\n",
    "library(foreign)\n",
    "library(caret)\n",
    "library(car)\n",
    "library(nlme)\n",
    "library(rms)\n",
    "library(e1071)\n",
    "library(effsize)"
   ]
  },
  {
   "cell_type": "markdown",
   "source": [
    "### Reading the data"
   ],
   "metadata": {
    "collapsed": false
   }
  },
  {
   "cell_type": "code",
   "execution_count": 40,
   "outputs": [],
   "source": [
    "# Importing the csv data\n",
    "data<-read.csv(\"../data/coverage_percentages.csv\")\n",
    "data$Average_coverage_buggy_files <- as.numeric(data$Average_coverage_buggy_files)\n",
    "data$Average_coverage_stack_trace_files <- as.numeric(data$Average_coverage_stack_trace_files)\n",
    "data$Average_all_files_coverage <- as.numeric(data$Average_all_files_coverage)\n",
    "data$Average_st_methods_coverage <- as.numeric(data$Average_st_methods_coverage)\n",
    "data$Average_buggy_methods_coverage <- as.numeric(data$Average_buggy_methods_coverage)"
   ],
   "metadata": {
    "collapsed": false,
    "ExecuteTime": {
     "end_time": "2023-09-14T18:24:17.470751Z",
     "start_time": "2023-09-14T18:24:17.410265Z"
    }
   }
  },
  {
   "cell_type": "markdown",
   "source": [
    " ## 1- Average_coverage_buggy_files X Average_all_files_coverage"
   ],
   "metadata": {
    "collapsed": false
   }
  },
  {
   "cell_type": "markdown",
   "source": [
    "### Checking if the distrubution is normal"
   ],
   "metadata": {
    "collapsed": false
   }
  },
  {
   "cell_type": "code",
   "execution_count": 20,
   "outputs": [
    {
     "data": {
      "text/plain": "\n\tShapiro-Wilk normality test\n\ndata:  data_1$Average_coverage_buggy_files\nW = 0.90993, p-value = 0.0001539\n"
     },
     "metadata": {},
     "output_type": "display_data"
    },
    {
     "data": {
      "text/plain": "\n\tShapiro-Wilk normality test\n\ndata:  data_1$Average_all_files_coverage\nW = 0.92556, p-value = 0.0006979\n"
     },
     "metadata": {},
     "output_type": "display_data"
    }
   ],
   "source": [
    "# Shapiro test - p-value < 0.05 = not normal\n",
    "data_1 <- data[!is.na(data$Average_coverage_buggy_files), ]\n",
    "data_1 <- data_1[!is.na(data_1$Average_all_files_coverage), ]\n",
    "shapiro.test(data_1$Average_coverage_buggy_files) # Not normal\n",
    "shapiro.test(data_1$Average_all_files_coverage) # Not normal"
   ],
   "metadata": {
    "collapsed": false,
    "ExecuteTime": {
     "end_time": "2023-09-14T17:58:33.367930Z",
     "start_time": "2023-09-14T17:58:33.272963Z"
    }
   }
  },
  {
   "cell_type": "markdown",
   "source": [
    "### Checking if one is bigger than the other"
   ],
   "metadata": {
    "collapsed": false
   }
  },
  {
   "cell_type": "code",
   "execution_count": 22,
   "outputs": [
    {
     "data": {
      "text/plain": "\n\tWilcoxon rank sum test with continuity correction\n\ndata:  data_1$Average_coverage_buggy_files and data_1$Average_all_files_coverage\nW = 3057, p-value = 6.383e-05\nalternative hypothesis: true location shift is not equal to 0\n"
     },
     "metadata": {},
     "output_type": "display_data"
    },
    {
     "data": {
      "text/plain": "\nCliff's Delta\n\ndelta estimate: 0.4035813 (medium)\n95 percent confidence interval:\n    lower     upper \n0.1946093 0.5775082 \n"
     },
     "metadata": {},
     "output_type": "display_data"
    }
   ],
   "source": [
    "wilcox.test(data_1$Average_coverage_buggy_files, data_1$Average_all_files_coverage) # p-value< 0.05 -> different distrtributions\n",
    "cliff.delta(data_1$Average_coverage_buggy_files, data_1$Average_all_files_coverage) # medium difference"
   ],
   "metadata": {
    "collapsed": false,
    "ExecuteTime": {
     "end_time": "2023-09-14T18:00:17.972515Z",
     "start_time": "2023-09-14T18:00:17.857239Z"
    }
   }
  },
  {
   "cell_type": "markdown",
   "source": [
    "### Checking which one is bigger"
   ],
   "metadata": {
    "collapsed": false
   }
  },
  {
   "cell_type": "code",
   "execution_count": 23,
   "outputs": [
    {
     "name": "stdout",
     "output_type": "stream",
     "text": [
      "[1] \"Median for Buggy Files: 64.3351223307105\"\n",
      "[1] \"Median for All Files: 54.2519786646925\"\n"
     ]
    }
   ],
   "source": [
    "median_buggy <- median(data_1$Average_coverage_buggy_files)\n",
    "median_all <- median(data_1$Average_all_files_coverage)\n",
    "\n",
    "print(paste(\"Median for Buggy Files:\", median_buggy))\n",
    "print(paste(\"Median for All Files:\", median_all))\n",
    "#Buggy files coverage > all files coverage"
   ],
   "metadata": {
    "collapsed": false,
    "ExecuteTime": {
     "end_time": "2023-09-14T18:02:56.549190Z",
     "start_time": "2023-09-14T18:02:56.069476Z"
    }
   }
  },
  {
   "cell_type": "markdown",
   "source": [
    "## 2- Average_coverage_stack_trace_files X Average_all_files_coverage"
   ],
   "metadata": {
    "collapsed": false
   }
  },
  {
   "cell_type": "markdown",
   "source": [
    "### Checking if the distrubution is normal"
   ],
   "metadata": {
    "collapsed": false
   }
  },
  {
   "cell_type": "code",
   "execution_count": 31,
   "outputs": [
    {
     "data": {
      "text/plain": "\n\tShapiro-Wilk normality test\n\ndata:  data_2$Average_coverage_stack_trace_files\nW = 0.87677, p-value = 2.387e-05\n"
     },
     "metadata": {},
     "output_type": "display_data"
    },
    {
     "data": {
      "text/plain": "\n\tShapiro-Wilk normality test\n\ndata:  data_2$Average_all_files_coverage\nW = 0.90604, p-value = 0.0002483\n"
     },
     "metadata": {},
     "output_type": "display_data"
    }
   ],
   "source": [
    "# Shapiro test - p-value < 0.05 = not normal\n",
    "data_2 <- data[!is.na(data$Average_coverage_stack_trace_files), ]\n",
    "data_2 <- data_2[!is.na(data_2$Average_all_files_coverage), ]\n",
    "shapiro.test(data_2$Average_coverage_stack_trace_files) # Not normal\n",
    "shapiro.test(data_2$Average_all_files_coverage) # Not normal"
   ],
   "metadata": {
    "collapsed": false,
    "ExecuteTime": {
     "end_time": "2023-09-14T18:15:54.349338Z",
     "start_time": "2023-09-14T18:15:54.280179Z"
    }
   }
  },
  {
   "cell_type": "markdown",
   "source": [
    "### Checking if one is bigger than the other"
   ],
   "metadata": {
    "collapsed": false
   }
  },
  {
   "cell_type": "code",
   "execution_count": 32,
   "outputs": [
    {
     "data": {
      "text/plain": "\n\tWilcoxon rank sum test with continuity correction\n\ndata:  data_2$Average_coverage_stack_trace_files and data_2$Average_all_files_coverage\nW = 2440, p-value = 0.0001684\nalternative hypothesis: true location shift is not equal to 0\n"
     },
     "metadata": {},
     "output_type": "display_data"
    },
    {
     "data": {
      "text/plain": "\nCliff's Delta\n\ndelta estimate: 0.401896 (medium)\n95 percent confidence interval:\n    lower     upper \n0.1950171 0.5745368 \n"
     },
     "metadata": {},
     "output_type": "display_data"
    }
   ],
   "source": [
    "wilcox.test(data_2$Average_coverage_stack_trace_files, data_2$Average_all_files_coverage) # p-value< 0.05 -> different distrtributions\n",
    "cliff.delta(data_2$Average_coverage_stack_trace_files, data_2$Average_all_files_coverage) # medium difference"
   ],
   "metadata": {
    "collapsed": false,
    "ExecuteTime": {
     "end_time": "2023-09-14T18:15:55.838521Z",
     "start_time": "2023-09-14T18:15:55.791803Z"
    }
   }
  },
  {
   "cell_type": "markdown",
   "source": [
    "### Checking which one is bigger"
   ],
   "metadata": {
    "collapsed": false
   }
  },
  {
   "cell_type": "code",
   "execution_count": 33,
   "outputs": [
    {
     "name": "stdout",
     "output_type": "stream",
     "text": [
      "[1] \"Median for ST Files: 61.4603858314622\"\n",
      "[1] \"Median for All Files: 54.8028561591145\"\n"
     ]
    }
   ],
   "source": [
    "median_st<- median(data_2$Average_coverage_stack_trace_files)\n",
    "median_all <- median(data_2$Average_all_files_coverage)\n",
    "\n",
    "print(paste(\"Median for ST Files:\", median_st))\n",
    "print(paste(\"Median for All Files:\", median_all))\n",
    "#ST files coverage > all files coverage"
   ],
   "metadata": {
    "collapsed": false,
    "ExecuteTime": {
     "end_time": "2023-09-14T18:16:08.019672Z",
     "start_time": "2023-09-14T18:16:07.963287Z"
    }
   }
  },
  {
   "cell_type": "markdown",
   "source": [
    "## 3- Average_buggy_files_coverage X Average_coverage_stack_trace_files"
   ],
   "metadata": {
    "collapsed": false
   }
  },
  {
   "cell_type": "markdown",
   "source": [
    "### Checking if the distrubution is normal"
   ],
   "metadata": {
    "collapsed": false
   }
  },
  {
   "cell_type": "code",
   "execution_count": 35,
   "outputs": [
    {
     "data": {
      "text/plain": "\n\tShapiro-Wilk normality test\n\ndata:  data_3$Average_coverage_buggy_files\nW = 0.87742, p-value = 3.334e-05\n"
     },
     "metadata": {},
     "output_type": "display_data"
    },
    {
     "data": {
      "text/plain": "\n\tShapiro-Wilk normality test\n\ndata:  data_3$Average_coverage_stack_trace_files\nW = 0.8756, p-value = 2.916e-05\n"
     },
     "metadata": {},
     "output_type": "display_data"
    }
   ],
   "source": [
    "# Shapiro test - p-value < 0.05 = not normal\n",
    "data_3 <- data[!is.na(data$Average_coverage_buggy_files), ]\n",
    "data_3 <- data_3[!is.na(data_3$Average_coverage_stack_trace_files), ]\n",
    "shapiro.test(data_3$Average_coverage_buggy_files) # Not normal\n",
    "shapiro.test(data_3$Average_coverage_stack_trace_files) # Not normal"
   ],
   "metadata": {
    "collapsed": false,
    "ExecuteTime": {
     "end_time": "2023-09-14T18:18:07.553412Z",
     "start_time": "2023-09-14T18:18:07.474123Z"
    }
   }
  },
  {
   "cell_type": "markdown",
   "source": [
    "### Checking if one is bigger than the other"
   ],
   "metadata": {
    "collapsed": false
   }
  },
  {
   "cell_type": "code",
   "execution_count": 36,
   "outputs": [
    {
     "data": {
      "text/plain": "\n\tWilcoxon rank sum test with continuity correction\n\ndata:  data_3$Average_coverage_buggy_files and data_3$Average_coverage_stack_trace_files\nW = 1865.5, p-value = 0.1729\nalternative hypothesis: true location shift is not equal to 0\n"
     },
     "metadata": {},
     "output_type": "display_data"
    },
    {
     "data": {
      "text/plain": "\nCliff's Delta\n\ndelta estimate: 0.1483533 (small)\n95 percent confidence interval:\n      lower       upper \n-0.07046479  0.35354935 \n"
     },
     "metadata": {},
     "output_type": "display_data"
    }
   ],
   "source": [
    "wilcox.test(data_3$Average_coverage_buggy_files, data_3$Average_coverage_stack_trace_files) # p-value> 0.05 -> no statistically significant difference between the distributions\n",
    "cliff.delta(data_3$Average_coverage_buggy_files, data_3$Average_coverage_stack_trace_files) # small difference"
   ],
   "metadata": {
    "collapsed": false,
    "ExecuteTime": {
     "end_time": "2023-09-14T18:19:10.477896Z",
     "start_time": "2023-09-14T18:19:10.419984Z"
    }
   }
  },
  {
   "cell_type": "markdown",
   "source": [
    "## 4- Average_buggy_methods_coverage X Average_st_methods_coverage"
   ],
   "metadata": {
    "collapsed": false
   }
  },
  {
   "cell_type": "markdown",
   "source": [
    "### Checking if the distrubution is normal"
   ],
   "metadata": {
    "collapsed": false
   }
  },
  {
   "cell_type": "code",
   "execution_count": 41,
   "outputs": [
    {
     "data": {
      "text/plain": "\n\tShapiro-Wilk normality test\n\ndata:  data_4$Average_buggy_methods_coverage\nW = 0.84541, p-value = 3.623e-06\n"
     },
     "metadata": {},
     "output_type": "display_data"
    },
    {
     "data": {
      "text/plain": "\n\tShapiro-Wilk normality test\n\ndata:  data_4$Average_st_methods_coverage\nW = 0.86326, p-value = 1.207e-05\n"
     },
     "metadata": {},
     "output_type": "display_data"
    }
   ],
   "source": [
    "# Shapiro test - p-value < 0.05 = not normal\n",
    "data_4 <- data[!is.na(data$Average_buggy_methods_coverage), ]\n",
    "data_4 <- data_4[!is.na(data_4$Average_st_methods_coverage), ]\n",
    "shapiro.test(data_4$Average_buggy_methods_coverage) # Not normal\n",
    "shapiro.test(data_4$Average_st_methods_coverage) # Not normal"
   ],
   "metadata": {
    "collapsed": false,
    "ExecuteTime": {
     "end_time": "2023-09-14T18:24:26.416125Z",
     "start_time": "2023-09-14T18:24:26.367719Z"
    }
   }
  },
  {
   "cell_type": "markdown",
   "source": [
    "### Checking if one is bigger than the other"
   ],
   "metadata": {
    "collapsed": false
   }
  },
  {
   "cell_type": "code",
   "execution_count": 42,
   "outputs": [
    {
     "data": {
      "text/plain": "\n\tWilcoxon rank sum test with continuity correction\n\ndata:  data_4$Average_buggy_methods_coverage and data_4$Average_st_methods_coverage\nW = 1860, p-value = 0.1829\nalternative hypothesis: true location shift is not equal to 0\n"
     },
     "metadata": {},
     "output_type": "display_data"
    },
    {
     "data": {
      "text/plain": "\nCliff's Delta\n\ndelta estimate: 0.1449677 (negligible)\n95 percent confidence interval:\n      lower       upper \n-0.07996271  0.35585009 \n"
     },
     "metadata": {},
     "output_type": "display_data"
    }
   ],
   "source": [
    "wilcox.test(data_4$Average_buggy_methods_coverage, data_4$Average_st_methods_coverage) # p-value> 0.05 -> no statistically significant difference between the distributions\n",
    "cliff.delta(data_4$Average_buggy_methods_coverage, data_4$Average_st_methods_coverage) # negligible difference"
   ],
   "metadata": {
    "collapsed": false,
    "ExecuteTime": {
     "end_time": "2023-09-14T18:25:20.279496Z",
     "start_time": "2023-09-14T18:25:20.169945Z"
    }
   }
  }
 ],
 "metadata": {
  "kernelspec": {
   "name": "ir",
   "language": "R",
   "display_name": "R"
  },
  "language_info": {
   "codemirror_mode": {
    "name": "ipython",
    "version": 2
   },
   "file_extension": ".py",
   "mimetype": "text/x-python",
   "name": "python",
   "nbconvert_exporter": "python",
   "pygments_lexer": "ipython2",
   "version": "2.7.6"
  }
 },
 "nbformat": 4,
 "nbformat_minor": 0
}
