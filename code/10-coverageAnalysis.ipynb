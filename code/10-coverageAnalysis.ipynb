{
 "cells": [
  {
   "cell_type": "markdown",
   "source": [
    "# Analyzing the coverage results"
   ],
   "metadata": {
    "collapsed": false
   }
  },
  {
   "cell_type": "markdown",
   "source": [
    "### Importing the libs"
   ],
   "metadata": {
    "collapsed": false
   }
  },
  {
   "cell_type": "code",
   "execution_count": 1,
   "metadata": {
    "collapsed": true,
    "ExecuteTime": {
     "end_time": "2023-10-12T19:40:49.303029Z",
     "start_time": "2023-10-12T19:40:45.538406Z"
    }
   },
   "outputs": [
    {
     "name": "stderr",
     "output_type": "stream",
     "text": [
      "Loading required package: ggplot2\n",
      "\n",
      "Loading required package: lattice\n",
      "\n",
      "Loading required package: carData\n",
      "\n",
      "Loading required package: Hmisc\n",
      "\n",
      "\n",
      "Attaching package: ‘Hmisc’\n",
      "\n",
      "\n",
      "The following objects are masked from ‘package:base’:\n",
      "\n",
      "    format.pval, units\n",
      "\n",
      "\n",
      "Loading required package: survival\n",
      "\n",
      "\n",
      "Attaching package: ‘survival’\n",
      "\n",
      "\n",
      "The following object is masked from ‘package:caret’:\n",
      "\n",
      "    cluster\n",
      "\n",
      "\n",
      "Loading required package: SparseM\n",
      "\n",
      "\n",
      "Attaching package: ‘SparseM’\n",
      "\n",
      "\n",
      "The following object is masked from ‘package:base’:\n",
      "\n",
      "    backsolve\n",
      "\n",
      "\n",
      "\n",
      "Attaching package: ‘rms’\n",
      "\n",
      "\n",
      "The following objects are masked from ‘package:car’:\n",
      "\n",
      "    Predict, vif\n",
      "\n",
      "\n",
      "\n",
      "Attaching package: ‘e1071’\n",
      "\n",
      "\n",
      "The following object is masked from ‘package:Hmisc’:\n",
      "\n",
      "    impute\n",
      "\n",
      "\n"
     ]
    }
   ],
   "source": [
    "# Supressing the warnings\n",
    "options(warn = -1)\n",
    "\n",
    "# Importing the libs\n",
    "library(foreign)\n",
    "library(caret)\n",
    "library(car)\n",
    "library(nlme)\n",
    "library(rms)\n",
    "library(e1071)\n",
    "library(effsize)"
   ]
  },
  {
   "cell_type": "markdown",
   "source": [
    "### Reading the data"
   ],
   "metadata": {
    "collapsed": false
   }
  },
  {
   "cell_type": "code",
   "execution_count": 2,
   "outputs": [],
   "source": [
    "# Importing the csv data\n",
    "data<-read.csv(\"../data/coverage_percentages.csv\")\n",
    "data$Average_coverage_buggy_files <- as.numeric(data$Average_coverage_buggy_files)\n",
    "data$Average_coverage_stack_trace_files <- as.numeric(data$Average_coverage_stack_trace_files)\n",
    "data$Average_all_files_coverage <- as.numeric(data$Average_all_files_coverage)\n",
    "data$Average_st_methods_coverage <- as.numeric(data$Average_st_methods_coverage)\n",
    "data$Average_buggy_methods_coverage <- as.numeric(data$Average_buggy_methods_coverage)"
   ],
   "metadata": {
    "collapsed": false,
    "ExecuteTime": {
     "end_time": "2023-10-12T19:40:53.106300Z",
     "start_time": "2023-10-12T19:40:53.094798Z"
    }
   }
  },
  {
   "cell_type": "markdown",
   "source": [
    " ## 1- Average_coverage_buggy_files X Average_all_files_coverage"
   ],
   "metadata": {
    "collapsed": false
   }
  },
  {
   "cell_type": "markdown",
   "source": [
    "### Checking if the distrubution is normal"
   ],
   "metadata": {
    "collapsed": false
   }
  },
  {
   "cell_type": "code",
   "execution_count": 3,
   "outputs": [
    {
     "data": {
      "text/plain": "\n\tShapiro-Wilk normality test\n\ndata:  data_1$Average_coverage_buggy_files\nW = 0.87919, p-value = 2.489e-05\n"
     },
     "metadata": {},
     "output_type": "display_data"
    },
    {
     "data": {
      "text/plain": "\n\tShapiro-Wilk normality test\n\ndata:  data_1$Average_all_files_coverage\nW = 0.90396, p-value = 0.0001839\n"
     },
     "metadata": {},
     "output_type": "display_data"
    }
   ],
   "source": [
    "# Shapiro test - p-value < 0.05 = not normal\n",
    "data_1 <- data[!is.na(data$Average_coverage_buggy_files), ]\n",
    "data_1 <- data_1[!is.na(data_1$Average_all_files_coverage), ]\n",
    "shapiro.test(data_1$Average_coverage_buggy_files) # Not normal\n",
    "shapiro.test(data_1$Average_all_files_coverage) # Not normal"
   ],
   "metadata": {
    "collapsed": false,
    "ExecuteTime": {
     "end_time": "2023-10-12T19:40:56.797382Z",
     "start_time": "2023-10-12T19:40:56.759571Z"
    }
   }
  },
  {
   "cell_type": "markdown",
   "source": [
    "### Checking if one is bigger than the other"
   ],
   "metadata": {
    "collapsed": false
   }
  },
  {
   "cell_type": "code",
   "execution_count": 4,
   "outputs": [
    {
     "data": {
      "text/plain": "\n\tWilcoxon rank sum test with continuity correction\n\ndata:  data_1$Average_coverage_buggy_files and data_1$Average_all_files_coverage\nW = 2655, p-value = 7.292e-06\nalternative hypothesis: true location shift is not equal to 0\n"
     },
     "metadata": {},
     "output_type": "display_data"
    },
    {
     "data": {
      "text/plain": "\nCliff's Delta\n\ndelta estimate: 0.475 (large)\n95 percent confidence interval:\n    lower     upper \n0.2588657 0.6458366 \n"
     },
     "metadata": {},
     "output_type": "display_data"
    }
   ],
   "source": [
    "wilcox.test(data_1$Average_coverage_buggy_files, data_1$Average_all_files_coverage) # p-value< 0.05 -> different distrtributions\n",
    "cliff.delta(data_1$Average_coverage_buggy_files, data_1$Average_all_files_coverage) # medium difference"
   ],
   "metadata": {
    "collapsed": false,
    "ExecuteTime": {
     "end_time": "2023-10-12T19:41:17.581399Z",
     "start_time": "2023-10-12T19:41:17.532918Z"
    }
   }
  },
  {
   "cell_type": "markdown",
   "source": [
    "### Checking which one is bigger"
   ],
   "metadata": {
    "collapsed": false
   }
  },
  {
   "cell_type": "code",
   "execution_count": 5,
   "outputs": [
    {
     "name": "stdout",
     "output_type": "stream",
     "text": [
      "[1] \"Median for Buggy Files: 65.7427655076901\"\n",
      "[1] \"Median for All Files: 54.8653408654134\"\n"
     ]
    }
   ],
   "source": [
    "median_buggy <- median(data_1$Average_coverage_buggy_files)\n",
    "median_all <- median(data_1$Average_all_files_coverage)\n",
    "\n",
    "print(paste(\"Median for Buggy Files:\", median_buggy))\n",
    "print(paste(\"Median for All Files:\", median_all))\n",
    "#Buggy files coverage > all files coverage"
   ],
   "metadata": {
    "collapsed": false,
    "ExecuteTime": {
     "end_time": "2023-10-12T19:41:34.405774Z",
     "start_time": "2023-10-12T19:41:34.381685Z"
    }
   }
  },
  {
   "cell_type": "markdown",
   "source": [
    "## 2- Average_coverage_stack_trace_files X Average_all_files_coverage"
   ],
   "metadata": {
    "collapsed": false
   }
  },
  {
   "cell_type": "markdown",
   "source": [
    "### Checking if the distrubution is normal"
   ],
   "metadata": {
    "collapsed": false
   }
  },
  {
   "cell_type": "code",
   "execution_count": 6,
   "outputs": [
    {
     "data": {
      "text/plain": "\n\tShapiro-Wilk normality test\n\ndata:  data_2$Average_coverage_stack_trace_files\nW = 0.87524, p-value = 2.457e-05\n"
     },
     "metadata": {},
     "output_type": "display_data"
    },
    {
     "data": {
      "text/plain": "\n\tShapiro-Wilk normality test\n\ndata:  data_2$Average_all_files_coverage\nW = 0.90122, p-value = 0.0001873\n"
     },
     "metadata": {},
     "output_type": "display_data"
    }
   ],
   "source": [
    "# Shapiro test - p-value < 0.05 = not normal\n",
    "data_2 <- data[!is.na(data$Average_coverage_stack_trace_files), ]\n",
    "data_2 <- data_2[!is.na(data_2$Average_all_files_coverage), ]\n",
    "shapiro.test(data_2$Average_coverage_stack_trace_files) # Not normal\n",
    "shapiro.test(data_2$Average_all_files_coverage) # Not normal"
   ],
   "metadata": {
    "collapsed": false,
    "ExecuteTime": {
     "end_time": "2023-10-12T19:41:40.527796Z",
     "start_time": "2023-10-12T19:41:40.452835Z"
    }
   }
  },
  {
   "cell_type": "markdown",
   "source": [
    "### Checking if one is bigger than the other"
   ],
   "metadata": {
    "collapsed": false
   }
  },
  {
   "cell_type": "code",
   "execution_count": 7,
   "outputs": [
    {
     "data": {
      "text/plain": "\n\tWilcoxon rank sum test with continuity correction\n\ndata:  data_2$Average_coverage_stack_trace_files and data_2$Average_all_files_coverage\nW = 2358, p-value = 0.0001916\nalternative hypothesis: true location shift is not equal to 0\n"
     },
     "metadata": {},
     "output_type": "display_data"
    },
    {
     "data": {
      "text/plain": "\nCliff's Delta\n\ndelta estimate: 0.4019025 (medium)\n95 percent confidence interval:\n    lower     upper \n0.1920717 0.5765934 \n"
     },
     "metadata": {},
     "output_type": "display_data"
    }
   ],
   "source": [
    "wilcox.test(data_2$Average_coverage_stack_trace_files, data_2$Average_all_files_coverage) # p-value< 0.05 -> different distrtributions\n",
    "cliff.delta(data_2$Average_coverage_stack_trace_files, data_2$Average_all_files_coverage) # medium difference"
   ],
   "metadata": {
    "collapsed": false,
    "ExecuteTime": {
     "end_time": "2023-10-12T19:41:49.298058Z",
     "start_time": "2023-10-12T19:41:49.272898Z"
    }
   }
  },
  {
   "cell_type": "markdown",
   "source": [
    "### Checking which one is bigger"
   ],
   "metadata": {
    "collapsed": false
   }
  },
  {
   "cell_type": "code",
   "execution_count": 8,
   "outputs": [
    {
     "name": "stdout",
     "output_type": "stream",
     "text": [
      "[1] \"Median for ST Files: 61.5806541554139\"\n",
      "[1] \"Median for All Files: 54.8653408654134\"\n"
     ]
    }
   ],
   "source": [
    "median_st<- median(data_2$Average_coverage_stack_trace_files)\n",
    "median_all <- median(data_2$Average_all_files_coverage)\n",
    "\n",
    "print(paste(\"Median for ST Files:\", median_st))\n",
    "print(paste(\"Median for All Files:\", median_all))\n",
    "#ST files coverage > all files coverage"
   ],
   "metadata": {
    "collapsed": false,
    "ExecuteTime": {
     "end_time": "2023-10-12T19:41:59.158982Z",
     "start_time": "2023-10-12T19:41:59.127142Z"
    }
   }
  },
  {
   "cell_type": "markdown",
   "source": [
    "## 3- Average_buggy_files_coverage X Average_coverage_stack_trace_files"
   ],
   "metadata": {
    "collapsed": false
   }
  },
  {
   "cell_type": "markdown",
   "source": [
    "### Checking if the distrubution is normal"
   ],
   "metadata": {
    "collapsed": false
   }
  },
  {
   "cell_type": "code",
   "execution_count": 9,
   "outputs": [
    {
     "data": {
      "text/plain": "\n\tShapiro-Wilk normality test\n\ndata:  data_3$Average_coverage_buggy_files\nW = 0.86921, p-value = 2.133e-05\n"
     },
     "metadata": {},
     "output_type": "display_data"
    },
    {
     "data": {
      "text/plain": "\n\tShapiro-Wilk normality test\n\ndata:  data_3$Average_coverage_stack_trace_files\nW = 0.87392, p-value = 2.987e-05\n"
     },
     "metadata": {},
     "output_type": "display_data"
    }
   ],
   "source": [
    "# Shapiro test - p-value < 0.05 = not normal\n",
    "data_3 <- data[!is.na(data$Average_coverage_buggy_files), ]\n",
    "data_3 <- data_3[!is.na(data_3$Average_coverage_stack_trace_files), ]\n",
    "shapiro.test(data_3$Average_coverage_buggy_files) # Not normal\n",
    "shapiro.test(data_3$Average_coverage_stack_trace_files) # Not normal"
   ],
   "metadata": {
    "collapsed": false,
    "ExecuteTime": {
     "end_time": "2023-10-12T19:42:07.897214Z",
     "start_time": "2023-10-12T19:42:07.844065Z"
    }
   }
  },
  {
   "cell_type": "markdown",
   "source": [
    "### Checking if one is bigger than the other"
   ],
   "metadata": {
    "collapsed": false
   }
  },
  {
   "cell_type": "code",
   "execution_count": 10,
   "outputs": [
    {
     "data": {
      "text/plain": "\n\tWilcoxon rank sum test with continuity correction\n\ndata:  data_3$Average_coverage_buggy_files and data_3$Average_coverage_stack_trace_files\nW = 1815.5, p-value = 0.1506\nalternative hypothesis: true location shift is not equal to 0\n"
     },
     "metadata": {},
     "output_type": "display_data"
    },
    {
     "data": {
      "text/plain": "\nCliff's Delta\n\ndelta estimate: 0.1578444 (small)\n95 percent confidence interval:\n      lower       upper \n-0.06288005  0.36384769 \n"
     },
     "metadata": {},
     "output_type": "display_data"
    }
   ],
   "source": [
    "wilcox.test(data_3$Average_coverage_buggy_files, data_3$Average_coverage_stack_trace_files) # p-value> 0.05 -> no statistically significant difference between the distributions\n",
    "cliff.delta(data_3$Average_coverage_buggy_files, data_3$Average_coverage_stack_trace_files) # small difference"
   ],
   "metadata": {
    "collapsed": false,
    "ExecuteTime": {
     "end_time": "2023-10-12T19:42:11.933310Z",
     "start_time": "2023-10-12T19:42:11.899052Z"
    }
   }
  },
  {
   "cell_type": "markdown",
   "source": [
    "## 4- Average_buggy_methods_coverage X Average_st_methods_coverage"
   ],
   "metadata": {
    "collapsed": false
   }
  },
  {
   "cell_type": "markdown",
   "source": [
    "### Checking if the distrubution is normal"
   ],
   "metadata": {
    "collapsed": false
   }
  },
  {
   "cell_type": "code",
   "execution_count": 11,
   "outputs": [
    {
     "data": {
      "text/plain": "\n\tShapiro-Wilk normality test\n\ndata:  data_4$Average_buggy_methods_coverage\nW = 0.83745, p-value = 2.567e-06\n"
     },
     "metadata": {},
     "output_type": "display_data"
    },
    {
     "data": {
      "text/plain": "\n\tShapiro-Wilk normality test\n\ndata:  data_4$Average_st_methods_coverage\nW = 0.86562, p-value = 1.657e-05\n"
     },
     "metadata": {},
     "output_type": "display_data"
    }
   ],
   "source": [
    "# Shapiro test - p-value < 0.05 = not normal\n",
    "data_4 <- data[!is.na(data$Average_buggy_methods_coverage), ]\n",
    "data_4 <- data_4[!is.na(data_4$Average_st_methods_coverage), ]\n",
    "shapiro.test(data_4$Average_buggy_methods_coverage) # Not normal\n",
    "shapiro.test(data_4$Average_st_methods_coverage) # Not normal"
   ],
   "metadata": {
    "collapsed": false,
    "ExecuteTime": {
     "end_time": "2023-10-12T19:42:19.812187Z",
     "start_time": "2023-10-12T19:42:19.778047Z"
    }
   }
  },
  {
   "cell_type": "markdown",
   "source": [
    "### Checking if one is bigger than the other"
   ],
   "metadata": {
    "collapsed": false
   }
  },
  {
   "cell_type": "code",
   "execution_count": 12,
   "outputs": [
    {
     "data": {
      "text/plain": "\n\tWilcoxon rank sum test with continuity correction\n\ndata:  data_4$Average_buggy_methods_coverage and data_4$Average_st_methods_coverage\nW = 1822, p-value = 0.1401\nalternative hypothesis: true location shift is not equal to 0\n"
     },
     "metadata": {},
     "output_type": "display_data"
    },
    {
     "data": {
      "text/plain": "\nCliff's Delta\n\ndelta estimate: 0.1619898 (small)\n95 percent confidence interval:\n      lower       upper \n-0.06451889  0.37262467 \n"
     },
     "metadata": {},
     "output_type": "display_data"
    }
   ],
   "source": [
    "wilcox.test(data_4$Average_buggy_methods_coverage, data_4$Average_st_methods_coverage) # p-value> 0.05 -> no statistically significant difference between the distributions\n",
    "cliff.delta(data_4$Average_buggy_methods_coverage, data_4$Average_st_methods_coverage) # negligible difference"
   ],
   "metadata": {
    "collapsed": false,
    "ExecuteTime": {
     "end_time": "2023-10-12T19:42:22.026459Z",
     "start_time": "2023-10-12T19:42:22.009087Z"
    }
   }
  },
  {
   "cell_type": "code",
   "execution_count": null,
   "outputs": [],
   "source": [],
   "metadata": {
    "collapsed": false
   }
  }
 ],
 "metadata": {
  "kernelspec": {
   "name": "ir",
   "language": "R",
   "display_name": "R"
  },
  "language_info": {
   "codemirror_mode": {
    "name": "ipython",
    "version": 2
   },
   "file_extension": ".py",
   "mimetype": "text/x-python",
   "name": "python",
   "nbconvert_exporter": "python",
   "pygments_lexer": "ipython2",
   "version": "2.7.6"
  }
 },
 "nbformat": 4,
 "nbformat_minor": 0
}
