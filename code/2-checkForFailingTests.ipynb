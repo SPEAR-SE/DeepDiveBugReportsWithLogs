{
 "cells": [
  {
   "cell_type": "markdown",
   "source": [
    "# Check for test failures - Defects4j 2.0\n",
    "This script is the second main script to be executed and it compares the gzoltar coverage results (that were be obtained via the auxiliary scripts) and the defects4j bug-triggering tests\n",
    "Obs: In order to be able to execute this script, you must unzip the zip files that can be found in the locations data/gzoltar_files/ and data/gzoltar_files/Closure/"
   ],
   "metadata": {
    "collapsed": false
   }
  },
  {
   "cell_type": "markdown",
   "source": [
    "### Vars declaration"
   ],
   "metadata": {
    "collapsed": false
   }
  },
  {
   "cell_type": "code",
   "execution_count": 1,
   "outputs": [],
   "source": [
    "import os\n",
    "from secrets import base_path\n",
    "\n",
    "\n",
    "paths_dict=  {\n",
    "        \"bugs_details_file_path\": os.path.join(base_path, \"DeepDiveBugReportsWithLogs\", \"data\", \"bug_reports_with_stack_traces_details.json\"),\n",
    "        \"gzoltar_files_path\":  os.path.join(base_path, \"DeepDiveBugReportsWithLogs\", \"data\", \"gzoltar_files\"),\n",
    "}"
   ],
   "metadata": {
    "collapsed": false,
    "ExecuteTime": {
     "end_time": "2023-07-24T17:46:02.526214Z",
     "start_time": "2023-07-24T17:46:02.520445Z"
    }
   }
  },
  {
   "cell_type": "markdown",
   "source": [
    "### Getting the failing tests informations for each bug"
   ],
   "metadata": {
    "collapsed": false
   }
  },
  {
   "cell_type": "code",
   "execution_count": null,
   "outputs": [],
   "source": [
    "import utils\n",
    "import importlib\n",
    "importlib.reload(utils)\n",
    "\n",
    "bugs_data = utils.json_file_to_dict(paths_dict[\"bugs_details_file_path\"])\n",
    "bugs_with_failing_tests_in_commons_with_defects4j = []\n",
    "bugs_without_failing_tests_in_commons_with_defects4j = []\n",
    "bugs_with_coverage_problem = []\n",
    "bugs_with_no_coverage = []\n",
    "for project in bugs_data.keys():\n",
    "        print(\"----- \" + project + \" -----\")\n",
    "        project_gzoltar_folder = os.path.join(paths_dict[\"gzoltar_files_path\"], project)\n",
    "        for bug_id in bugs_data[project].keys():\n",
    "                bug_gzoltar_folder = os.path.join(project_gzoltar_folder, bug_id)\n",
    "                if not os.path.exists(bug_gzoltar_folder):\n",
    "                        bugs_with_no_coverage.append(project+ \"_\" + bug_id)\n",
    "                        continue\n",
    "                tests = utils.read_tests_file(bug_gzoltar_folder)\n",
    "                number_not_passing_tests = len(tests[\"failing_tests\"]) + len(tests[\"compilation_problems\"])\n",
    "                percentage_not_passing_tests = number_not_passing_tests / (number_not_passing_tests + len(tests[\"passing_tests\"]))\n",
    "                if len(tests[\"passing_tests\"]) == 0 or percentage_not_passing_tests>0.1:\n",
    "                        bugs_with_coverage_problem.append(project+ \"_\" + bug_id)\n",
    "                        continue\n",
    "                print(project + \"_\" + bug_id + \": \"+ str(len(tests[\"failing_tests\"])))\n",
    "                found = False\n",
    "                for failing_test in tests[\"failing_tests\"]:\n",
    "                        for defects4j_test in bugs_data[project][bug_id][\"defects4j_trigger_tests\"]:\n",
    "                                defects4j_test = defects4j_test.replace(\"::\", \"#\")\n",
    "                                if failing_test == defects4j_test:\n",
    "                                        bugs_with_failing_tests_in_commons_with_defects4j.append(project+ \"_\" + bug_id)\n",
    "                                        found = True\n",
    "                                        break\n",
    "                if not found:\n",
    "                        bugs_without_failing_tests_in_commons_with_defects4j.append(project+ \"_\" + bug_id)\n",
    "\n",
    "print(\"___________\")\n",
    "print(str(len(bugs_with_failing_tests_in_commons_with_defects4j)) + \" out of \" + str(len(bugs_without_failing_tests_in_commons_with_defects4j)) + \" bugs have tests in common with defects4j\")\n",
    "print(\"bugs_with_no_coverage: \" + str(len(bugs_with_no_coverage)))\n",
    "print(\"bugs_with_coverage_problem: \" + str(len(bugs_with_coverage_problem)))\n",
    "print(\"bugs_with_failing_tests_in_commons_with_defects4j: \" + str(bugs_with_failing_tests_in_commons_with_defects4j))\n",
    "print(\"bugs_without_failing_tests_in_commons_with_defects4j: \" + str(bugs_without_failing_tests_in_commons_with_defects4j))\n",
    "print()\n",
    "\n",
    "for project in bugs_data.keys():\n",
    "        for bug_id in bugs_data[project].keys():\n",
    "                bug_report = project+ \"_\" + bug_id\n",
    "                if bug_report not in bugs_with_no_coverage and bug_report not in bugs_with_coverage_problem and bug_report not in#%% md\n",
    "# Check for test failures - Defects4j 2.0\n",
    "This script is the second main script to be executed."
   ],
   "metadata": {
    "collapsed": false
   }
  },
  {
   "cell_type": "markdown",
   "source": [
    "### Vars declaration\n",
    "Paths:\n",
    "- bug_reports_path: It is the path to the folder that contains the textual information from the bug reports from defects4j. This files were extracted by An Ran, and are in this project's repo. They are either a json file or a txt file, depending on the project.\n",
    "- defects4j_path: It is the path in which  the defects4j 2.0 repo is cloned (https://github.com/rjust/defects4j)\n",
    "- output_file_path: It is the path to the file in which the json outputed by this script will be stored"
   ],
   "metadata": {
    "collapsed": false
   }
  },
  {
   "cell_type": "code",
   "execution_count": null,
   "outputs": [],
   "source": [
    "import os\n",
    "from secrets import base_path\n",
    "\n",
    "\n",
    "paths_dict=  {\n",
    "        \"bugs_details_file_path\": os.path.join(base_path, \"DeepDiveBugReportsWithLogs\", \"data\", \"bug_reports_with_stack_traces_details.json\"),\n",
    "        \"gzoltar_files_path\":  os.path.join(base_path, \"DeepDiveBugReportsWithLogs\", \"data\", \"gzoltar_files\"),\n",
    "}"
   ],
   "metadata": {
    "collapsed": false
   }
  },
  {
   "cell_type": "markdown",
   "source": [
    "### Getting the failing tests for each bug"
   ],
   "metadata": {
    "collapsed": false
   }
  },
  {
   "cell_type": "code",
   "execution_count": 53,
   "outputs": [
    {
     "name": "stdout",
     "output_type": "stream",
     "text": [
      "----- Cli -----\n",
      "Cli_14: 1\n",
      "Cli_5: 3\n",
      "Cli_7: 2\n",
      "----- Closure -----\n",
      "Closure_106: 1\n",
      "Closure_125: 4\n",
      "Closure_143: 1\n",
      "Closure_152: 2\n",
      "Closure_2: 3\n",
      "Closure_34: 2\n",
      "Closure_37: 2\n",
      "Closure_55: 2\n",
      "----- Codec -----\n",
      "Codec_8: 0\n",
      "----- Collections -----\n",
      "Collections_28: 0\n",
      "----- Compress -----\n",
      "Compress_1: 0\n",
      "Compress_12: 0\n",
      "Compress_14: 0\n",
      "Compress_17: 0\n",
      "Compress_18: 0\n",
      "Compress_23: 1\n",
      "Compress_24: 3\n",
      "Compress_27: 2\n",
      "Compress_31: 2\n",
      "Compress_32: 1\n",
      "Compress_34: 2\n",
      "----- Csv -----\n",
      "Csv_12: 0\n",
      "Csv_4: 0\n",
      "----- Gson -----\n",
      "Gson_12: 0\n",
      "Gson_5: 0\n",
      "Gson_8: 0\n",
      "----- JacksonCore -----\n",
      "JacksonCore_10: 1\n",
      "JacksonCore_11: 0\n",
      "JacksonCore_4: 1\n",
      "JacksonCore_7: 0\n",
      "----- JacksonDatabind -----\n",
      "JacksonDatabind_14: 26\n",
      "JacksonDatabind_15: 25\n",
      "JacksonDatabind_25: 32\n",
      "JacksonDatabind_28: 35\n",
      "JacksonDatabind_3: 27\n",
      "JacksonDatabind_32: 33\n",
      "JacksonDatabind_37: 32\n",
      "JacksonDatabind_59: 0\n",
      "JacksonDatabind_73: 35\n",
      "JacksonDatabind_9: 26\n",
      "----- Jsoup -----\n",
      "Jsoup_27: 0\n",
      "Jsoup_34: 0\n",
      "Jsoup_54: 0\n",
      "Jsoup_78: 0\n",
      "Jsoup_80: 0\n",
      "Jsoup_82: 0\n",
      "Jsoup_84: 1\n",
      "Jsoup_90: 0\n",
      "----- JxPath -----\n",
      "JxPath_5: 0\n",
      "----- Lang -----\n",
      "Lang_19: 9\n",
      "Lang_37: 3\n",
      "Lang_6: 3\n",
      "Lang_61: 19\n",
      "----- Math -----\n",
      "Math_79: 1\n",
      "Math_81: 1\n",
      "Math_97: 0\n",
      "----- Mockito -----\n",
      "Mockito_17: 2\n",
      "Mockito_22: 22\n",
      "Mockito_25: 20\n",
      "Mockito_30: 3\n",
      "Mockito_31: 3\n",
      "Mockito_35: 2\n",
      "Mockito_4: 21\n",
      "Mockito_5: 22\n",
      "----- Time -----\n",
      "Time_10: 21\n",
      "Time_14: 20\n",
      "___________\n",
      "4 out of 70 bugs have tests in common with defects4j\n",
      "bugs_with_no_coverage: 15\n",
      "bugs_with_coverage_problem: 5\n",
      "bugs_with_failing_tests_in_commons_with_defects4j: ['Cli_7', 'Cli_7', 'JacksonCore_10', 'JacksonDatabind_3']\n",
      "bugs_without_failing_tests_in_commons_with_defects4j: ['Cli_14', 'Cli_5', 'Closure_106', 'Closure_125', 'Closure_143', 'Closure_152', 'Closure_2', 'Closure_34', 'Closure_37', 'Closure_55', 'Codec_8', 'Collections_28', 'Compress_1', 'Compress_12', 'Compress_14', 'Compress_17', 'Compress_18', 'Compress_23', 'Compress_24', 'Compress_27', 'Compress_31', 'Compress_32', 'Compress_34', 'Csv_12', 'Csv_4', 'Gson_12', 'Gson_5', 'Gson_8', 'JacksonCore_11', 'JacksonCore_4', 'JacksonCore_7', 'JacksonDatabind_14', 'JacksonDatabind_15', 'JacksonDatabind_25', 'JacksonDatabind_28', 'JacksonDatabind_32', 'JacksonDatabind_37', 'JacksonDatabind_59', 'JacksonDatabind_73', 'JacksonDatabind_9', 'Jsoup_27', 'Jsoup_34', 'Jsoup_54', 'Jsoup_78', 'Jsoup_80', 'Jsoup_82', 'Jsoup_84', 'Jsoup_90', 'JxPath_5', 'Lang_19', 'Lang_37', 'Lang_6', 'Lang_61', 'Math_79', 'Math_81', 'Math_97', 'Mockito_17', 'Mockito_22', 'Mockito_25', 'Mockito_30', 'Mockito_31', 'Mockito_35', 'Mockito_4', 'Mockito_5', 'Time_10', 'Time_14']\n"
     ]
    }
   ],
   "source": [
    "import utils\n",
    "import importlib\n",
    "importlib.reload(utils)\n",
    "\n",
    "bugs_data = utils.json_file_to_dict(paths_dict[\"bugs_details_file_path\"])\n",
    "bugs_with_failing_tests_in_commons_with_defects4j = []\n",
    "bugs_without_failing_tests_in_commons_with_defects4j = []\n",
    "bugs_with_coverage_problem = []\n",
    "bugs_with_no_coverage = []\n",
    "for project in bugs_data.keys():\n",
    "        print(\"----- \" + project + \" -----\")\n",
    "        project_gzoltar_folder = os.path.join(paths_dict[\"gzoltar_files_path\"], project)\n",
    "        for bug_id in bugs_data[project].keys():\n",
    "                bug_gzoltar_folder = os.path.join(project_gzoltar_folder, bug_id)\n",
    "                if not os.path.exists(bug_gzoltar_folder):\n",
    "                        bugs_with_no_coverage.append(project+ \"_\" + bug_id)\n",
    "                        continue\n",
    "                tests = utils.read_tests_file(bug_gzoltar_folder)\n",
    "                number_not_passing_tests = len(tests[\"failing_tests\"]) + len(tests[\"compilation_problems\"])\n",
    "                percentage_not_passing_tests = number_not_passing_tests / (number_not_passing_tests + len(tests[\"passing_tests\"]))\n",
    "                if len(tests[\"passing_tests\"]) == 0 or percentage_not_passing_tests>0.1:\n",
    "                        bugs_with_coverage_problem.append(project+ \"_\" + bug_id)\n",
    "                        continue\n",
    "                print(project + \"_\" + bug_id + \": \"+ str(len(tests[\"failing_tests\"])))\n",
    "                found = False\n",
    "                for failing_test in tests[\"failing_tests\"]:\n",
    "                        for defects4j_test in bugs_data[project][bug_id][\"defects4j_trigger_tests\"]:\n",
    "                                defects4j_test = defects4j_test.replace(\"::\", \"#\")\n",
    "                                if failing_test == defects4j_test:\n",
    "                                        bugs_with_failing_tests_in_commons_with_defects4j.append(project+ \"_\" + bug_id)\n",
    "                                        found = True\n",
    "                                        break\n",
    "                if not found:\n",
    "                        bugs_without_failing_tests_in_commons_with_defects4j.append(project+ \"_\" + bug_id)\n",
    "\n",
    "print(\"___________\")\n",
    "print(str(len(bugs_with_failing_tests_in_commons_with_defects4j)) + \" out of \" + str(len(bugs_without_failing_tests_in_commons_with_defects4j) + len(bugs_with_failing_tests_in_commons_with_defects4j)) + \" bugs have tests in common with defects4j\")\n",
    "print(\"bugs_with_no_coverage: \" + str(len(bugs_with_no_coverage)))\n",
    "print(\"bugs_with_coverage_problem: \" + str(len(bugs_with_coverage_problem)))\n",
    "print(\"bugs_with_failing_tests_in_commons_with_defects4j: \" + str(bugs_with_failing_tests_in_commons_with_defects4j))\n",
    "print(\"bugs_without_failing_tests_in_commons_with_defects4j: \" + str(bugs_without_failing_tests_in_commons_with_defects4j))"
   ],
   "metadata": {
    "collapsed": false,
    "ExecuteTime": {
     "end_time": "2023-07-24T21:04:20.471229Z",
     "start_time": "2023-07-24T21:04:19.917401Z"
    }
   }
  },
  {
   "cell_type": "code",
   "execution_count": null,
   "outputs": [],
   "source": [],
   "metadata": {
    "collapsed": false
   }
  }
 ],
 "metadata": {
  "kernelspec": {
   "display_name": "Python 3",
   "language": "python",
   "name": "python3"
  },
  "language_info": {
   "codemirror_mode": {
    "name": "ipython",
    "version": 2
   },
   "file_extension": ".py",
   "mimetype": "text/x-python",
   "name": "python",
   "nbconvert_exporter": "python",
   "pygments_lexer": "ipython2",
   "version": "2.7.6"
  }
 },
 "nbformat": 4,
 "nbformat_minor": 0
}
