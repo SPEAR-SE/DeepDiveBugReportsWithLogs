{
 "cells": [
  {
   "cell_type": "markdown",
   "metadata": {
    "collapsed": false
   },
   "source": [
    "# Getting the bug location for each bug\n",
    "Extracting the information about the lines added and deleted in each file in the bugfix commit\n",
    "Separates the data into code modifications and test modifications"
   ]
  },
  {
   "cell_type": "markdown",
   "metadata": {
    "collapsed": false
   },
   "source": [
    "### Vars declaration"
   ]
  },
  {
   "cell_type": "code",
   "execution_count": 2,
   "metadata": {
    "collapsed": false,
    "ExecuteTime": {
     "end_time": "2023-07-27T19:37:43.020431Z",
     "start_time": "2023-07-27T19:37:43.015620Z"
    }
   },
   "outputs": [],
   "source": [
    "import os\n",
    "from secrets import base_path\n",
    "\n",
    "\n",
    "paths_dict=  {\n",
    "        \"bugs_with_stack_traces_details_file_path\": os.path.join(base_path, \"DeepDiveBugReportsWithLogs\", \"data\", \"bug_reports_with_stack_traces_details.json\"),\n",
    "        \"project_repos_dir\":  os.path.join(base_path, \"open_source_repos_being_studied\"),\n",
    "        \"defects4j_path\": os.path.join(base_path, \"defects4j\")\n",
    "}\n",
    "\n",
    "projects_github_id = {\n",
    "        \"Cli\": \"apache/commons-cli\",\n",
    "        \"Closure\": \"google/closure-compiler\",\n",
    "        \"Codec\": \"apache/commons-codec\",\n",
    "        \"Collections\": \"apache/commons-collections\",\n",
    "        \"Compress\": \"apache/commons-compress\",\n",
    "        \"Csv\": \"apache/commons-csv\",\n",
    "        \"Gson\": \"google/gson\",\n",
    "        \"JacksonCore\": \"FasterXML/jackson-core\",\n",
    "        \"JacksonDatabind\": \"FasterXML/jackson-databind\",\n",
    "        \"Jsoup\": \"jhy/jsoup\",\n",
    "        \"JxPath\": \"apache/commons-jxpath\",\n",
    "        \"Mockito\": \"mockito/mockito\",\n",
    "        \"Time\" : \"JodaOrg/joda-time\",\n",
    "        \"fastjson\": \"alibaba/fastjson\",\n",
    "        \"junit4\": \"junit-team/junit4\"\n",
    "}"
   ]
  },
  {
   "cell_type": "markdown",
   "metadata": {
    "collapsed": false
   },
   "source": [
    "### Getting the added and deleted lines for the projects that have the history available in GitHub"
   ]
  },
  {
   "cell_type": "code",
   "execution_count": 3,
   "metadata": {
    "collapsed": false,
    "ExecuteTime": {
     "end_time": "2023-07-27T19:38:08.037057Z",
     "start_time": "2023-07-27T19:37:44.268621Z"
    }
   },
   "outputs": [
    {
     "name": "stdout",
     "output_type": "stream",
     "text": [
      "Collected info added to the file data/merged_data_production_bug_reports.json\n"
     ]
    }
   ],
   "source": [
    "from github import Github\n",
    "from secrets import github_token\n",
    "import utils\n",
    "import importlib\n",
    "importlib.reload(utils)\n",
    "\n",
    "bugs_data = utils.json_file_to_dict(paths_dict[\"bugs_with_stack_traces_details_file_path\"])\n",
    "\n",
    "g = Github(github_token)\n",
    "\n",
    "for project in bugs_data:\n",
    "        github_repo_id = projects_github_id.get(project, None)\n",
    "        if github_repo_id:\n",
    "                repo_owner = projects_github_id[project].split(\"/\")[0]\n",
    "                repo_name = projects_github_id[project].split(\"/\")[1]\n",
    "                repo = g.get_repo(f\"{repo_owner}/{repo_name}\")\n",
    "                for bug_id in bugs_data[project]:\n",
    "                        bugfix_commit_sha = bugs_data[project][bug_id][\"bugfix_commit\"]\n",
    "                        bugfix_commit_data = repo.get_commit(bugfix_commit_sha)\n",
    "\n",
    "                        for file in bugfix_commit_data.files:\n",
    "                                # Getting the modified lines that are not related to tests to later identify the buggy methods\n",
    "                                if file.filename.endswith(\".java\"):\n",
    "                                        file_path = os.path.join(paths_dict[\"project_repos_dir\"], repo_name, file.filename)\n",
    "                                        added_line_numbers, deleted_line_numbers = utils.get_modified_line_numbers_github_lib(file.patch)\n",
    "                                        if \"test\" not in file.filename.lower():\n",
    "                                                key = \"modified_code\"\n",
    "                                        else:\n",
    "                                                key = \"modified_tests\"\n",
    "                                        if key not in bugs_data[project][bug_id].keys():\n",
    "                                                bugs_data[project][bug_id][key] = {}\n",
    "                                        if file.filename not in bugs_data[project][bug_id][key].keys():\n",
    "                                                bugs_data[project][bug_id][key][file.filename] = {}\n",
    "                                        if added_line_numbers:\n",
    "                                                bugs_data[project][bug_id][key][file.filename][\"added_lines\"] = added_line_numbers\n",
    "                                        if deleted_line_numbers:\n",
    "                                                bugs_data[project][bug_id][key][file.filename][\"deleted_lines\"] = deleted_line_numbers\n",
    "                                        if file.previous_filename:\n",
    "                                                bugs_data[project][bug_id][key][file.filename][\"previous_filename\"] = file.previous_filename\n",
    "\n",
    "utils.dict_to_json_file(paths_dict[\"bugs_with_stack_traces_details_file_path\"],bugs_data)\n",
    "print(\"Collected info added to the file data/merged_data_production_bug_reports.json\")"
   ]
  },
  {
   "cell_type": "markdown",
   "metadata": {
    "collapsed": false
   },
   "source": [
    "### Getting the added and deleted lines for the projects that do not have the history available in GitHub\n",
    "\n",
    "For the projects Math and Lang, it is not enough to clone them from GitHub because the old commits are not available there anymore.\n",
    "Instead, you will need to have defects4j installed and it is necessary to run the script get_repos.sh to download the defects4j version of these repos (.git file)\n",
    "After downloading the \".git\" file via this script, run a `git clone ${PATH_TO_GIT_FILE}` inside the project_repos_dir folder to have these locally."
   ]
  },
  {
   "cell_type": "code",
   "execution_count": 4,
   "metadata": {
    "collapsed": false,
    "ExecuteTime": {
     "end_time": "2023-07-31T17:46:35.494100Z",
     "start_time": "2023-07-31T17:46:34.898338Z"
    }
   },
   "outputs": [
    {
     "name": "stdout",
     "output_type": "stream",
     "text": [
      "Collected info added to the file data/merged_data_production_bug_reports.json\n"
     ]
    }
   ],
   "source": [
    "import subprocess\n",
    "import utils\n",
    "import importlib\n",
    "importlib.reload(utils)\n",
    "\n",
    "\n",
    "projects_list = {\n",
    "        \"Lang\": \"commons-lang\",\n",
    "        \"Math\": \"commons-math\"\n",
    "}\n",
    "\n",
    "bugs_data = utils.json_file_to_dict(paths_dict[\"bugs_with_stack_traces_details_file_path\"])\n",
    "\n",
    "# Define the working directory where the repositories will be checked out\n",
    "working_dir = \"/tmp/\"\n",
    "\n",
    "# Define the bugs and versions for which to obtain the modified lines\n",
    "for project in projects_list.keys():\n",
    "        folder = projects_list[project]\n",
    "        project_path = os.path.join(paths_dict[\"project_repos_dir\"], folder)\n",
    "        os.chdir(project_path) # Moving to defects4j folder\n",
    "        bugs_details = bugs_data[project]\n",
    "        for bug_id in bugs_details.keys():\n",
    "                bugfix_commit_sha = bugs_data[project][bug_id][\"bugfix_commit\"]\n",
    "                output = subprocess.check_output([\"git\", \"show\", bugfix_commit_sha])\n",
    "                output_str = output.decode(\"utf-8\")\n",
    "                # Split the output into lines\n",
    "                lines = output_str.split(\"\\n\")\n",
    "\n",
    "                output = utils.get_modified_line_numbers_git_cli(lines)\n",
    "                for file_name in output.keys():\n",
    "                        if file_name.endswith(\".java\"):\n",
    "                                if \"test\" not in file_name.lower():\n",
    "                                        key = \"modified_code\"\n",
    "                                else:\n",
    "                                        key = \"modified_tests\"\n",
    "                                if key not in bugs_data[project][bug_id].keys():\n",
    "                                        bugs_data[project][bug_id][key] = {}\n",
    "                                if file_name not in bugs_data[project][bug_id][key].keys():\n",
    "                                        bugs_data[project][bug_id][key][file_name] = {}\n",
    "                                if \"added\" in output[file_name].keys():\n",
    "                                        bugs_data[project][bug_id][key][file_name][\"added_lines\"] = output[file_name][\"added\"]\n",
    "                                if \"deleted\" in output[file_name].keys():\n",
    "                                        bugs_data[project][bug_id][key][file_name][\"deleted_lines\"] = output[file_name][\"deleted\"]\n",
    "\n",
    "utils.dict_to_json_file(paths_dict[\"bugs_with_stack_traces_details_file_path\"],bugs_data)\n",
    "print(\"Collected info added to the file data/merged_data_production_bug_reports.json\")"
   ]
  },
  {
   "cell_type": "code",
   "execution_count": null,
   "metadata": {
    "collapsed": false
   },
   "outputs": [],
   "source": []
  }
 ],
 "metadata": {
  "kernelspec": {
   "display_name": "Python 3",
   "language": "python",
   "name": "python3"
  },
  "language_info": {
   "codemirror_mode": {
    "name": "ipython",
    "version": 2
   },
   "file_extension": ".py",
   "mimetype": "text/x-python",
   "name": "python",
   "nbconvert_exporter": "python",
   "pygments_lexer": "ipython2",
   "version": "2.7.6"
  }
 },
 "nbformat": 4,
 "nbformat_minor": 0
}
