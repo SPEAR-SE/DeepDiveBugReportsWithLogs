{
 "cells": [
  {
   "cell_type": "markdown",
   "source": [
    "# Getting the bug location for each bug\n",
    "Extracting the information about the lines added and deleted in each file in the bugfix commit\n",
    "Separates the data into code modifications and test modifications"
   ],
   "metadata": {
    "collapsed": false
   }
  },
  {
   "cell_type": "markdown",
   "source": [
    "### Vars declaration"
   ],
   "metadata": {
    "collapsed": false
   }
  },
  {
   "cell_type": "code",
   "execution_count": 5,
   "outputs": [],
   "source": [
    "import os\n",
    "from secrets import base_path\n",
    "\n",
    "\n",
    "paths_dict=  {\n",
    "        \"bugs_with_stack_traces_details_file_path\": os.path.join(base_path, \"DeepDiveBugReportsWithLogs\", \"data\", \"bug_reports_with_stack_traces_details.json\"),\n",
    "        \"project_repos_dir\":  os.path.join(base_path, \"open_source_repos_being_studied\"),\n",
    "        \"defects4j_path\": os.path.join(base_path, \"defects4j\")\n",
    "}\n",
    "\n",
    "projects_github_id = {\n",
    "        \"Cli\": \"apache/commons-cli\",\n",
    "        \"Closure\": \"google/closure-compiler\",\n",
    "        \"Codec\": \"apache/commons-codec\",\n",
    "        \"Collections\": \"apache/commons-collections\",\n",
    "        \"Compress\": \"apache/commons-compress\",\n",
    "        \"Csv\": \"apache/commons-csv\",\n",
    "        \"Gson\": \"google/gson\",\n",
    "        \"JacksonCore\": \"FasterXML/jackson-core\",\n",
    "        \"JacksonDatabind\": \"FasterXML/jackson-databind\",\n",
    "        \"Jsoup\": \"jhy/jsoup\",\n",
    "        \"JxPath\": \"apache/commons-jxpath\",\n",
    "        \"Mockito\": \"mockito/mockito\",\n",
    "        \"Time\" : \"JodaOrg/joda-time\",\n",
    "        \"fastjson\": \"alibaba/fastjson\",\n",
    "        \"junit4\": \"junit-team/junit4\"\n",
    "}"
   ],
   "metadata": {
    "collapsed": false,
    "ExecuteTime": {
     "end_time": "2023-07-26T19:33:13.227182Z",
     "start_time": "2023-07-26T19:33:13.223753Z"
    }
   }
  },
  {
   "cell_type": "markdown",
   "source": [
    "### Getting the added and deleted lines for the projects that have the history available in GitHub"
   ],
   "metadata": {
    "collapsed": false
   }
  },
  {
   "cell_type": "code",
   "execution_count": 3,
   "outputs": [
    {
     "name": "stdout",
     "output_type": "stream",
     "text": [
      "Collected info added to the file data/merged_data_production_bug_reports.json\n"
     ]
    }
   ],
   "source": [
    "from github import Github\n",
    "from secrets import github_token\n",
    "import utils\n",
    "import importlib\n",
    "importlib.reload(utils)\n",
    "\n",
    "bugs_data = utils.json_file_to_dict(paths_dict[\"bugs_with_stack_traces_details_file_path\"])\n",
    "\n",
    "g = Github(github_token)\n",
    "\n",
    "for project in bugs_data:\n",
    "        github_repo_id = projects_github_id.get(project, None)\n",
    "        if github_repo_id:\n",
    "                repo_owner = projects_github_id[project].split(\"/\")[0]\n",
    "                repo_name = projects_github_id[project].split(\"/\")[1]\n",
    "                repo = g.get_repo(f\"{repo_owner}/{repo_name}\")\n",
    "                for bug_id in bugs_data[project]:\n",
    "                        bugfix_commit_sha = bugs_data[project][bug_id][\"bugfix_commit\"]\n",
    "                        bugfix_commit_data = repo.get_commit(bugfix_commit_sha)\n",
    "\n",
    "                        for file in bugfix_commit_data.files:\n",
    "                                # Getting the modified lines that are not related to tests to later identify the buggy methods\n",
    "                                if file.filename.endswith(\".java\"):\n",
    "                                        file_path = os.path.join(paths_dict[\"project_repos_dir\"], repo_name, file.filename)\n",
    "                                        added_line_numbers, deleted_line_numbers = utils.get_modified_line_numbers_github_lib(file.patch)\n",
    "                                        if \"test\" not in file.filename.lower():\n",
    "                                                key = \"modified_code\"\n",
    "                                        else:\n",
    "                                                key = \"modified_tests\"\n",
    "                                        if key not in bugs_data[project][bug_id].keys():\n",
    "                                                bugs_data[project][bug_id][key] = {}\n",
    "                                        if file.filename not in bugs_data[project][bug_id][key].keys():\n",
    "                                                bugs_data[project][bug_id][key][file.filename] = {}\n",
    "                                        if added_line_numbers:\n",
    "                                                bugs_data[project][bug_id][key][file.filename][\"added_lines\"] = added_line_numbers\n",
    "                                        if deleted_line_numbers:\n",
    "                                                bugs_data[project][bug_id][key][file.filename][\"deleted_lines\"] = deleted_line_numbers\n",
    "\n",
    "utils.dict_to_json_file(paths_dict[\"bugs_with_stack_traces_details_file_path\"],bugs_data)\n",
    "print(\"Collected info added to the file data/merged_data_production_bug_reports.json\")"
   ],
   "metadata": {
    "collapsed": false,
    "ExecuteTime": {
     "end_time": "2023-07-26T19:27:37.536261Z",
     "start_time": "2023-07-26T19:27:09.902558Z"
    }
   }
  },
  {
   "cell_type": "markdown",
   "source": [
    "### Getting the added and deleted lines for the projects that do not have the history available in GitHub\n",
    "\n",
    "Requires defects4j installed and it is necessary to run the script get_repos.sh to download the defects4j version of these repos"
   ],
   "metadata": {
    "collapsed": false
   }
  },
  {
   "cell_type": "code",
   "execution_count": 7,
   "outputs": [
    {
     "name": "stdout",
     "output_type": "stream",
     "text": [
      "Collected info added to the file data/merged_data_production_bug_reports.json\n"
     ]
    }
   ],
   "source": [
    "import subprocess\n",
    "import utils\n",
    "import importlib\n",
    "importlib.reload(utils)\n",
    "\n",
    "\n",
    "projects_list = {\n",
    "        \"Lang\": \"commons-lang.git\",\n",
    "        \"Math\": \"commons-math.git\"\n",
    "}\n",
    "\n",
    "bugs_data = utils.json_file_to_dict(paths_dict[\"bugs_with_stack_traces_details_file_path\"])\n",
    "\n",
    "# Define the working directory where the repositories will be checked out\n",
    "working_dir = \"/tmp/\"\n",
    "\n",
    "# Define the bugs and versions for which to obtain the modified lines\n",
    "for project in projects_list.keys():\n",
    "        folder = projects_list[project]\n",
    "        project_path = os.path.join(paths_dict[\"defects4j_path\"], \"project_repos\", folder)\n",
    "        os.chdir(project_path) # Moving to defects4j folder\n",
    "        bugs_details = bugs_data[project]\n",
    "        for bug_id in bugs_details.keys():\n",
    "                bugfix_commit_sha = bugs_data[project][bug_id][\"bugfix_commit\"]\n",
    "                output = subprocess.check_output([\"git\", \"show\", bugfix_commit_sha])\n",
    "                output_str = output.decode(\"utf-8\")\n",
    "                # Split the output into lines\n",
    "                lines = output_str.split(\"\\n\")\n",
    "\n",
    "                output = utils.get_modified_line_numbers_git_cli(lines)\n",
    "                for file_name in output.keys():\n",
    "                        if file_name.endswith(\".java\"):\n",
    "                                if \"test\" not in file_name.lower():\n",
    "                                        key = \"modified_code\"\n",
    "                                else:\n",
    "                                        key = \"modified_tests\"\n",
    "                                if key not in bugs_data[project][bug_id].keys():\n",
    "                                        bugs_data[project][bug_id][key] = {}\n",
    "                                if file_name not in bugs_data[project][bug_id][key].keys():\n",
    "                                        bugs_data[project][bug_id][key][file_name] = {}\n",
    "                                if \"added\" in output[file_name].keys():\n",
    "                                        bugs_data[project][bug_id][key][file_name][\"added_lines\"] = output[file_name][\"added\"]\n",
    "                                if \"deleted\" in output[file_name].keys():\n",
    "                                        bugs_data[project][bug_id][key][file_name][\"deleted_lines\"] = output[file_name][\"deleted\"]\n",
    "\n",
    "utils.dict_to_json_file(paths_dict[\"bugs_with_stack_traces_details_file_path\"],bugs_data)\n",
    "print(\"Collected info added to the file data/merged_data_production_bug_reports.json\")"
   ],
   "metadata": {
    "collapsed": false,
    "ExecuteTime": {
     "end_time": "2023-07-26T19:33:29.128784Z",
     "start_time": "2023-07-26T19:33:28.731436Z"
    }
   }
  },
  {
   "cell_type": "code",
   "execution_count": null,
   "outputs": [],
   "source": [],
   "metadata": {
    "collapsed": false
   }
  }
 ],
 "metadata": {
  "kernelspec": {
   "display_name": "Python 3",
   "language": "python",
   "name": "python3"
  },
  "language_info": {
   "codemirror_mode": {
    "name": "ipython",
    "version": 2
   },
   "file_extension": ".py",
   "mimetype": "text/x-python",
   "name": "python",
   "nbconvert_exporter": "python",
   "pygments_lexer": "ipython2",
   "version": "2.7.6"
  }
 },
 "nbformat": 4,
 "nbformat_minor": 0
}
