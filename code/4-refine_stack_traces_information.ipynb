{
 "cells": [
  {
   "cell_type": "markdown",
   "source": [
    "# Refine the stack traces information\n",
    "Extracts specific information about the file names, method names and line numbers for each stack trace entry"
   ],
   "metadata": {
    "collapsed": false
   }
  },
  {
   "cell_type": "markdown",
   "source": [
    "### Vars declaration"
   ],
   "metadata": {
    "collapsed": false
   }
  },
  {
   "cell_type": "code",
   "execution_count": 1,
   "outputs": [],
   "source": [
    "import os\n",
    "from secrets import base_path\n",
    "\n",
    "\n",
    "paths_dict=  {\n",
    "        \"bugs_with_stack_traces_details_file_path\": os.path.join(base_path, \"DeepDiveBugReportsWithLogs\", \"data\", \"bug_reports_with_stack_traces_details.json\")\n",
    "}\n"
   ],
   "metadata": {
    "collapsed": false,
    "ExecuteTime": {
     "end_time": "2023-07-27T18:23:45.254465Z",
     "start_time": "2023-07-27T18:23:45.242908Z"
    }
   }
  },
  {
   "cell_type": "markdown",
   "source": [
    "### Extracting the list of files, methods and line number from the stack traces textual information"
   ],
   "metadata": {
    "collapsed": false
   }
  },
  {
   "cell_type": "code",
   "execution_count": 2,
   "outputs": [
    {
     "name": "stdout",
     "output_type": "stream",
     "text": [
      "Done\n"
     ]
    }
   ],
   "source": [
    "import utils\n",
    "import importlib\n",
    "importlib.reload(utils)\n",
    "\n",
    "bugs_data = utils.json_file_to_dict(paths_dict[\"bugs_with_stack_traces_details_file_path\"])\n",
    "\n",
    "for project in bugs_data.keys():\n",
    "        for bug_id in bugs_data[project].keys():\n",
    "                stack_trace_entries = []\n",
    "                for stack_trace in bugs_data[project][bug_id][\"stack_traces\"]:\n",
    "                        stack_trace_entries += stack_trace.replace(\"\\t\", \"\").split(\"\\n\")\n",
    "                st_methods = []\n",
    "                st_files = []\n",
    "                st_lines = []\n",
    "                for st_entry in stack_trace_entries:\n",
    "                        try:\n",
    "                                file_name, method_name, line_number = utils.extract_file_method_and_line_from_a_stack_trace_entry(st_entry)\n",
    "                                if file_name is not None and method_name is not None and line_number is not None:\n",
    "                                        st_methods.append(method_name)\n",
    "                                        st_files.append(file_name)\n",
    "                                        st_lines.append(str(line_number))\n",
    "                        except:\n",
    "                                continue\n",
    "                bugs_data[project][bug_id][\"stack_trace_methods\"] = st_methods\n",
    "                bugs_data[project][bug_id][\"stack_trace_files\"] = st_files\n",
    "                bugs_data[project][bug_id][\"stack_trace_lines\"] = st_lines\n",
    "utils.dict_to_json_file(paths_dict[\"bugs_with_stack_traces_details_file_path\"],bugs_data)\n",
    "print(\"Done\")"
   ],
   "metadata": {
    "collapsed": false,
    "ExecuteTime": {
     "end_time": "2023-07-27T18:23:45.476503Z",
     "start_time": "2023-07-27T18:23:45.251668Z"
    }
   }
  }
 ],
 "metadata": {
  "kernelspec": {
   "display_name": "Python 3",
   "language": "python",
   "name": "python3"
  },
  "language_info": {
   "codemirror_mode": {
    "name": "ipython",
    "version": 2
   },
   "file_extension": ".py",
   "mimetype": "text/x-python",
   "name": "python",
   "nbconvert_exporter": "python",
   "pygments_lexer": "ipython2",
   "version": "2.7.6"
  }
 },
 "nbformat": 4,
 "nbformat_minor": 0
}
