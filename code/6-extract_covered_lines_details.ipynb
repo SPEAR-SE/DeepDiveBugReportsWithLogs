{
 "cells": [
  {
   "cell_type": "markdown",
   "source": [
    "# Extract covered lines details"
   ],
   "metadata": {
    "collapsed": false
   }
  },
  {
   "cell_type": "markdown",
   "source": [
    "### Var declarations"
   ],
   "metadata": {
    "collapsed": false
   }
  },
  {
   "cell_type": "code",
   "execution_count": 3,
   "outputs": [],
   "source": [
    "import os\n",
    "from my_secrets import base_path\n",
    "\n",
    "\n",
    "paths_dict=  {\n",
    "    \"data_file_path\": os.path.join(base_path, \"DeepDiveBugReportsWithLogs\", \"data\", \"bug_reports_with_stack_traces_details.json\"),\n",
    "    \"gzoltar_files_path\": os.path.join(base_path, \"DeepDiveBugReportsWithLogs\", \"data\", \"gzoltar_files\"),\n",
    "    \"output_file_path\": os.path.join(base_path,\"DeepDiveBugReportsWithLogs\", \"data\", \"coverage_data_gzoltar.json\"),\n",
    "    \"tests_analysis_results\":  os.path.join(base_path,\"DeepDiveBugReportsWithLogs\",  \"data\", \"rq1_results.json\"),\n",
    "    \"tests_covering_stack_trace_entries_folder\":  os.path.join(base_path,\"DeepDiveBugReportsWithLogs\",  \"data\", \"tests_covering_stack_traces_details_per_bug\"),\n",
    "}"
   ],
   "metadata": {
    "collapsed": false,
    "ExecuteTime": {
     "end_time": "2023-08-03T18:59:58.726355Z",
     "start_time": "2023-08-03T18:59:58.716658Z"
    }
   }
  },
  {
   "cell_type": "markdown",
   "source": [
    "## Reading the data"
   ],
   "metadata": {
    "collapsed": false
   }
  },
  {
   "cell_type": "code",
   "execution_count": 2,
   "outputs": [
    {
     "name": "stdout",
     "output_type": "stream",
     "text": [
      "Number of tests in bug Cli-14 - 539\n",
      "Number of tests in bug Cli-5 - 103\n",
      "Number of tests in bug Closure-106 - 2554\n",
      "Number of tests in bug Closure-125 - 8156\n",
      "Number of tests in bug Closure-143 - 4616\n",
      "Number of tests in bug Closure-152 - 6186\n",
      "Number of tests in bug Closure-2 - 7830\n",
      "Number of tests in bug Closure-34 - 7413\n",
      "Number of tests in bug Closure-37 - 7373\n",
      "Number of tests in bug Closure-55 - 7155\n",
      "Number of tests in bug Codec-8 - 294\n",
      "Number of tests in bug Collections-28 - 5280\n",
      "Number of tests in bug Compress-1 - 69\n",
      "Number of tests in bug Compress-12 - 315\n",
      "Number of tests in bug Compress-14 - 317\n",
      "Number of tests in bug Compress-17 - 350\n",
      "Number of tests in bug Compress-18 - 351\n",
      "Number of tests in bug Compress-23 - 466\n",
      "Number of tests in bug Compress-24 - 935\n",
      "Number of tests in bug Compress-27 - 1012\n",
      "Number of tests in bug Compress-31 - 1106\n",
      "Number of tests in bug Compress-32 - 613\n",
      "Number of tests in bug Compress-34 - 1228\n",
      "Number of tests in bug Csv-12 - 206\n",
      "Number of tests in bug Csv-4 - 186\n",
      "Number of tests in bug Gson-12 - 1015\n",
      "Number of tests in bug Gson-5 - 1970\n",
      "Number of tests in bug Gson-8 - 989\n",
      "Number of tests in bug JacksonCore-11 - 334\n",
      "Number of tests in bug JacksonCore-4 - 239\n",
      "Number of tests in bug JacksonCore-7 - 261\n",
      "Number of tests in bug JacksonDatabind-14 - 1375\n",
      "Number of tests in bug JacksonDatabind-15 - 1377\n",
      "Number of tests in bug JacksonDatabind-25 - 1483\n",
      "Number of tests in bug JacksonDatabind-28 - 1492\n",
      "Number of tests in bug JacksonDatabind-32 - 1510\n",
      "Number of tests in bug JacksonDatabind-37 - 1549\n",
      "Number of tests in bug JacksonDatabind-59 - 7\n",
      "Number of tests in bug JacksonDatabind-73 - 1488\n",
      "Number of tests in bug JacksonDatabind-9 - 1360\n",
      "Number of tests in bug Jsoup-27 - 344\n",
      "Number of tests in bug Jsoup-34 - 396\n",
      "Number of tests in bug Jsoup-54 - 483\n",
      "Number of tests in bug Jsoup-78 - 628\n",
      "Number of tests in bug Jsoup-80 - 637\n",
      "Number of tests in bug Jsoup-82 - 637\n",
      "Number of tests in bug Jsoup-84 - 528\n",
      "Number of tests in bug Jsoup-90 - 671\n",
      "Number of tests in bug JxPath-5 - 335\n",
      "Number of tests in bug Lang-19 - 5598\n",
      "Number of tests in bug Lang-37 - 1607\n",
      "Number of tests in bug Lang-6 - 2252\n",
      "Number of tests in bug Lang-61 - 1671\n",
      "Number of tests in bug Math-79 - 2095\n",
      "Number of tests in bug Math-81 - 2095\n",
      "Number of tests in bug Math-97 - 2015\n",
      "Number of tests in bug Mockito-17 - 903\n",
      "Number of tests in bug Mockito-22 - 1311\n",
      "Number of tests in bug Mockito-25 - 1280\n",
      "Number of tests in bug Mockito-30 - 1003\n",
      "Number of tests in bug Mockito-31 - 1002\n",
      "Number of tests in bug Mockito-35 - 877\n",
      "Number of tests in bug Mockito-4 - 1366\n",
      "Number of tests in bug Mockito-5 - 1362\n",
      "Number of tests in bug Time-10 - 3932\n",
      "Number of tests in bug Time-14 - 3876\n",
      "Number of tests in bug Cli-7 - 1074\n",
      "Number of tests in bug JacksonCore-10 - 330\n",
      "Number of tests in bug JacksonDatabind-3 - 1253\n",
      "Done\n"
     ]
    }
   ],
   "source": [
    "import utils\n",
    "import importlib\n",
    "importlib.reload(utils)\n",
    "\n",
    "tests_analysis_results  = utils.json_file_to_dict(paths_dict[\"tests_analysis_results\"])\n",
    "coverage_data = {}\n",
    "\n",
    "bugs = list(tests_analysis_results[\"bugs_with_stack_traces\"][\"bugs_without_failing_tests_in_commons_with_defects4j\"].keys()) + list(tests_analysis_results[\"bugs_with_stack_traces\"][\"bugs_with_failing_tests_in_commons_with_defects4j\"].keys())\n",
    "\n",
    "for bug in bugs:\n",
    "    project, bug_id = bug.split(\"_\")\n",
    "    project_gzoltar_folder =   os.path.join(paths_dict[\"gzoltar_files_path\"], project)\n",
    "    if not os.path.exists(project_gzoltar_folder):\n",
    "        print(f\"Gzoltar folder not fount for the project {project}. Skipping it!\")\n",
    "        continue\n",
    "    if not project in coverage_data.keys():\n",
    "        coverage_data[project] = {}\n",
    "    bug_gzoltar_folder = os.path.join(project_gzoltar_folder, bug_id)\n",
    "    if not os.path.exists(bug_gzoltar_folder):\n",
    "        print(\"Gzoltar folder not fount for the bugId \"+ project+ \"-\" + bug_id)\n",
    "        print(\"Skipping!!!!! \")\n",
    "        continue\n",
    "    coverage_data[project][bug_id] = {}\n",
    "    coverage_data[project][bug_id][\"statements_covered_per_test\"] = utils.read_matrix_file(bug_gzoltar_folder)\n",
    "    print(\"Number of tests in bug \"+ project+ \"-\" + bug_id + \" - \" + str(len(coverage_data[project][bug_id][\"statements_covered_per_test\"])))\n",
    "    coverage_data[project][bug_id][\"lines_of_code_obj_list\"] = utils.read_spectra_file(bug_gzoltar_folder)\n",
    "    test_names, test_results = utils.read_tests_file(bug_gzoltar_folder)\n",
    "    coverage_data[project][bug_id][\"test_names\"] = test_names\n",
    "    coverage_data[project][bug_id][\"test_results\"] = test_results\n",
    "print(\"Done\")"
   ],
   "metadata": {
    "collapsed": false,
    "ExecuteTime": {
     "end_time": "2023-08-03T18:59:58.687627Z",
     "start_time": "2023-08-03T18:52:26.271127Z"
    }
   }
  },
  {
   "cell_type": "markdown",
   "source": [
    "# Getting the general coverage information - covered lines per file and method - stored in data/coverage_data_gzoltar.json\n",
    "This information is later used to calculate the coverage percentage of the files and methods being analysed"
   ],
   "metadata": {
    "collapsed": false
   }
  },
  {
   "cell_type": "code",
   "execution_count": 13,
   "outputs": [
    {
     "name": "stdout",
     "output_type": "stream",
     "text": [
      "Cli\n",
      "Closure\n",
      "Codec\n",
      "Collections\n",
      "Compress\n",
      "Csv\n",
      "Gson\n",
      "JacksonCore\n",
      "JacksonDatabind\n",
      "Jsoup\n",
      "JxPath\n",
      "Lang\n",
      "Math\n",
      "Mockito\n",
      "Time\n"
     ]
    },
    {
     "ename": "KeyError",
     "evalue": "'gzoltar_file_path'",
     "output_type": "error",
     "traceback": [
      "\u001B[0;31m---------------------------------------------------------------------------\u001B[0m",
      "\u001B[0;31mKeyError\u001B[0m                                  Traceback (most recent call last)",
      "\u001B[0;32m/var/folders/90/229vn9dx6874gdg9vwxw8dq40000gn/T/ipykernel_65762/2424487662.py\u001B[0m in \u001B[0;36m<module>\u001B[0;34m\u001B[0m\n\u001B[1;32m     20\u001B[0m             \u001B[0mcovered_lines_gzoltar\u001B[0m\u001B[0;34m[\u001B[0m\u001B[0mproject\u001B[0m\u001B[0;34m]\u001B[0m \u001B[0;34m=\u001B[0m \u001B[0;34m{\u001B[0m\u001B[0;34m}\u001B[0m\u001B[0;34m\u001B[0m\u001B[0;34m\u001B[0m\u001B[0m\n\u001B[1;32m     21\u001B[0m         \u001B[0mcovered_lines_gzoltar\u001B[0m\u001B[0;34m[\u001B[0m\u001B[0mproject\u001B[0m\u001B[0;34m]\u001B[0m\u001B[0;34m[\u001B[0m\u001B[0mbug_id\u001B[0m\u001B[0;34m]\u001B[0m \u001B[0;34m=\u001B[0m \u001B[0mcoverage_info\u001B[0m\u001B[0;34m\u001B[0m\u001B[0;34m\u001B[0m\u001B[0m\n\u001B[0;32m---> 22\u001B[0;31m \u001B[0mutils\u001B[0m\u001B[0;34m.\u001B[0m\u001B[0mdict_to_json_file\u001B[0m\u001B[0;34m(\u001B[0m\u001B[0mpaths_dict\u001B[0m\u001B[0;34m[\u001B[0m\u001B[0;34m\"gzoltar_file_path\"\u001B[0m\u001B[0;34m]\u001B[0m\u001B[0;34m,\u001B[0m\u001B[0mcovered_lines_gzoltar\u001B[0m\u001B[0;34m)\u001B[0m\u001B[0;34m\u001B[0m\u001B[0;34m\u001B[0m\u001B[0m\n\u001B[0m\u001B[1;32m     23\u001B[0m \u001B[0mprint\u001B[0m\u001B[0;34m(\u001B[0m\u001B[0;34m\"Collected info added to the file \"\u001B[0m\u001B[0;34m+\u001B[0m \u001B[0mpaths_dict\u001B[0m\u001B[0;34m[\u001B[0m\u001B[0;34m\"gzoltar_file_path\"\u001B[0m\u001B[0;34m]\u001B[0m\u001B[0;34m)\u001B[0m\u001B[0;34m\u001B[0m\u001B[0;34m\u001B[0m\u001B[0m\n",
      "\u001B[0;31mKeyError\u001B[0m: 'gzoltar_file_path'"
     ]
    }
   ],
   "source": [
    "covered_lines_gzoltar = {}\n",
    "for project in coverage_data.keys():\n",
    "    print(project)\n",
    "    for bug_id in coverage_data[project].keys():\n",
    "        coverage_info = {}\n",
    "        for index_t, test_coverage in enumerate(coverage_data[project][bug_id][\"statements_covered_per_test\"]):\n",
    "            for index_s, statement_instance in enumerate(coverage_data[project][bug_id][\"statements_covered_per_test\"][index_t]):\n",
    "                if str(statement_instance) == \"1\": # 1= covered, 0=not covered\n",
    "                    lines_of_code_obj_list = coverage_data[project][bug_id][\"lines_of_code_obj_list\"][index_s]\n",
    "                    file_name = lines_of_code_obj_list[\"class_name\"].replace(\".\", \"/\").replace(\"$\", \"/\") + \".java\"\n",
    "                    method_name = lines_of_code_obj_list[\"method_name\"] + \" - \" + lines_of_code_obj_list[\"method_parameters\"]\n",
    "                    line_number = lines_of_code_obj_list[\"line_number\"]\n",
    "                    if file_name not in coverage_info.keys():\n",
    "                        coverage_info[file_name] = {}\n",
    "                    if method_name not in coverage_info[file_name].keys():\n",
    "                        coverage_info[file_name][method_name] = []\n",
    "                    if line_number not in coverage_info[file_name][method_name]:\n",
    "                        coverage_info[file_name][method_name].append(line_number)\n",
    "        if project not in covered_lines_gzoltar.keys():\n",
    "            covered_lines_gzoltar[project] = {}\n",
    "        covered_lines_gzoltar[project][bug_id] = coverage_info\n",
    "utils.dict_to_json_file(paths_dict[\"output_file_path\"],covered_lines_gzoltar)\n",
    "print(\"Collected info added to the file \"+ paths_dict[\"output_file_path\"])"
   ],
   "metadata": {
    "collapsed": false,
    "ExecuteTime": {
     "end_time": "2023-08-02T19:26:49.641220Z",
     "start_time": "2023-08-02T19:11:57.741897Z"
    }
   }
  },
  {
   "cell_type": "markdown",
   "source": [
    "# Getting the names of the tests that cover each stack trace entry\n",
    "This information is later used in Ochiai computations"
   ],
   "metadata": {
    "collapsed": false
   }
  },
  {
   "cell_type": "code",
   "execution_count": 7,
   "outputs": [
    {
     "name": "stdout",
     "output_type": "stream",
     "text": [
      "Cli_14\n",
      "Updated info for bug Cli_14 added to the file\n",
      "Cli_5\n",
      "Updated info for bug Cli_5 added to the file\n",
      "Closure_106\n",
      "Updated info for bug Closure_106 added to the file\n",
      "Closure_125\n",
      "Updated info for bug Closure_125 added to the file\n",
      "Closure_143\n",
      "Updated info for bug Closure_143 added to the file\n",
      "Closure_152\n",
      "Updated info for bug Closure_152 added to the file\n",
      "Closure_2\n",
      "Updated info for bug Closure_2 added to the file\n",
      "Closure_34\n",
      "Updated info for bug Closure_34 added to the file\n",
      "Closure_37\n",
      "Updated info for bug Closure_37 added to the file\n",
      "Closure_55\n",
      "Updated info for bug Closure_55 added to the file\n",
      "Codec_8\n",
      "Updated info for bug Codec_8 added to the file\n",
      "Collections_28\n",
      "Updated info for bug Collections_28 added to the file\n",
      "Compress_1\n",
      "Updated info for bug Compress_1 added to the file\n",
      "Compress_12\n",
      "Updated info for bug Compress_12 added to the file\n",
      "Compress_14\n",
      "Updated info for bug Compress_14 added to the file\n",
      "Compress_17\n",
      "Updated info for bug Compress_17 added to the file\n",
      "Compress_18\n",
      "Updated info for bug Compress_18 added to the file\n",
      "Compress_23\n",
      "Updated info for bug Compress_23 added to the file\n",
      "Compress_24\n",
      "Updated info for bug Compress_24 added to the file\n",
      "Compress_27\n",
      "Updated info for bug Compress_27 added to the file\n",
      "Compress_31\n",
      "Updated info for bug Compress_31 added to the file\n",
      "Compress_32\n",
      "Updated info for bug Compress_32 added to the file\n",
      "Compress_34\n",
      "Updated info for bug Compress_34 added to the file\n",
      "Csv_12\n",
      "Updated info for bug Csv_12 added to the file\n",
      "Csv_4\n",
      "Updated info for bug Csv_4 added to the file\n",
      "Gson_12\n",
      "Updated info for bug Gson_12 added to the file\n",
      "Gson_5\n",
      "Updated info for bug Gson_5 added to the file\n",
      "Gson_8\n",
      "Updated info for bug Gson_8 added to the file\n",
      "JacksonCore_11\n",
      "Updated info for bug JacksonCore_11 added to the file\n",
      "JacksonCore_4\n",
      "Updated info for bug JacksonCore_4 added to the file\n",
      "JacksonCore_7\n",
      "Updated info for bug JacksonCore_7 added to the file\n",
      "JacksonDatabind_14\n",
      "Updated info for bug JacksonDatabind_14 added to the file\n",
      "JacksonDatabind_15\n",
      "Updated info for bug JacksonDatabind_15 added to the file\n",
      "JacksonDatabind_25\n",
      "Updated info for bug JacksonDatabind_25 added to the file\n",
      "JacksonDatabind_28\n",
      "Updated info for bug JacksonDatabind_28 added to the file\n",
      "JacksonDatabind_32\n",
      "Updated info for bug JacksonDatabind_32 added to the file\n",
      "JacksonDatabind_37\n",
      "Updated info for bug JacksonDatabind_37 added to the file\n",
      "JacksonDatabind_59\n",
      "Updated info for bug JacksonDatabind_59 added to the file\n",
      "JacksonDatabind_73\n",
      "Updated info for bug JacksonDatabind_73 added to the file\n",
      "JacksonDatabind_9\n",
      "Updated info for bug JacksonDatabind_9 added to the file\n",
      "Jsoup_27\n",
      "Updated info for bug Jsoup_27 added to the file\n",
      "Jsoup_34\n",
      "Updated info for bug Jsoup_34 added to the file\n",
      "Jsoup_54\n",
      "Updated info for bug Jsoup_54 added to the file\n",
      "Jsoup_78\n",
      "Updated info for bug Jsoup_78 added to the file\n",
      "Jsoup_80\n",
      "Updated info for bug Jsoup_80 added to the file\n",
      "Jsoup_82\n",
      "Updated info for bug Jsoup_82 added to the file\n",
      "Jsoup_84\n",
      "Updated info for bug Jsoup_84 added to the file\n",
      "Jsoup_90\n",
      "Updated info for bug Jsoup_90 added to the file\n",
      "JxPath_5\n",
      "Updated info for bug JxPath_5 added to the file\n",
      "Lang_19\n",
      "Updated info for bug Lang_19 added to the file\n",
      "Lang_37\n",
      "Updated info for bug Lang_37 added to the file\n",
      "Lang_6\n",
      "Updated info for bug Lang_6 added to the file\n",
      "Lang_61\n",
      "Updated info for bug Lang_61 added to the file\n",
      "Math_79\n",
      "Updated info for bug Math_79 added to the file\n",
      "Math_81\n",
      "Updated info for bug Math_81 added to the file\n",
      "Math_97\n",
      "Updated info for bug Math_97 added to the file\n",
      "Mockito_17\n",
      "Updated info for bug Mockito_17 added to the file\n",
      "Mockito_22\n",
      "Updated info for bug Mockito_22 added to the file\n",
      "Mockito_25\n",
      "Updated info for bug Mockito_25 added to the file\n",
      "Mockito_30\n",
      "Updated info for bug Mockito_30 added to the file\n",
      "Mockito_31\n",
      "Updated info for bug Mockito_31 added to the file\n",
      "Mockito_35\n",
      "Updated info for bug Mockito_35 added to the file\n",
      "Mockito_4\n",
      "Updated info for bug Mockito_4 added to the file\n",
      "Mockito_5\n",
      "Updated info for bug Mockito_5 added to the file\n",
      "Time_10\n",
      "Updated info for bug Time_10 added to the file\n",
      "Time_14\n",
      "Updated info for bug Time_14 added to the file\n",
      "Cli_7\n",
      "Updated info for bug Cli_7 added to the file\n",
      "JacksonCore_10\n",
      "Updated info for bug JacksonCore_10 added to the file\n",
      "JacksonDatabind_3\n",
      "Updated info for bug JacksonDatabind_3 added to the file\n",
      "All collected info added to the files in /Users/lorenapacheco/Concordia/Masters/DeepDiveBugReportsWithLogs/data/tests_covering_stack_traces_details_per_bug\n"
     ]
    }
   ],
   "source": [
    "import utils\n",
    "import importlib\n",
    "importlib.reload(utils)\n",
    "\n",
    "bugs_data = utils.json_file_to_dict(paths_dict[\"data_file_path\"])\n",
    "\n",
    "# TODO: Remove later\n",
    "tests_analysis_results  = utils.json_file_to_dict(paths_dict[\"tests_analysis_results\"])\n",
    "bugs = list(tests_analysis_results[\"bugs_with_stack_traces\"][\"bugs_without_failing_tests_in_commons_with_defects4j\"].keys()) + list(tests_analysis_results[\"bugs_with_stack_traces\"][\"bugs_with_failing_tests_in_commons_with_defects4j\"].keys())\n",
    "\n",
    "\n",
    "for bug in bugs:\n",
    "    print(bug)\n",
    "    project, bug_id = bug.split(\"_\")\n",
    "    bug_coverage_data = coverage_data[project][bug_id]\n",
    "    bug_data = bugs_data[project][bug_id]\n",
    "    new_file_path = os.path.join(paths_dict[\"tests_covering_stack_trace_entries_folder\"], project, bug_id + \".json\") #TODO: Continue\n",
    "    info = {}\n",
    "    for st_file in bug_data[\"stackTraceMethodsDetails\"].keys():\n",
    "        for st_method in bug_data[\"stackTraceMethodsDetails\"][st_file].keys():\n",
    "            tests_covering_the_method = {}\n",
    "            for index_t, test_coverage in enumerate(bug_coverage_data[\"statements_covered_per_test\"]):\n",
    "                test_name = bug_coverage_data[\"test_names\"][index_t]\n",
    "                for index_s, statement_instance in enumerate(bug_coverage_data[\"statements_covered_per_test\"][index_t]):\n",
    "                    if str(statement_instance) == \"1\": # 1= covered, 0=not covered\n",
    "                        lines_of_code_obj_list = bug_coverage_data[\"lines_of_code_obj_list\"][index_s]\n",
    "                        file_name = lines_of_code_obj_list[\"class_name\"].replace(\".\", \"/\").replace(\"$\", \"/\") + \".java\"\n",
    "                        method_name = lines_of_code_obj_list[\"method_name\"]\n",
    "                        line_number = lines_of_code_obj_list[\"line_number\"]\n",
    "                        if st_file.endswith(file_name) and st_method == method_name:\n",
    "                            st_method_start_line = bug_data[\"stackTraceMethodsDetails\"][st_file][st_method][\"startLine\"]\n",
    "                            st_method_end_line = bug_data[\"stackTraceMethodsDetails\"][st_file][st_method][\"endLine\"]\n",
    "                            if st_method_start_line <= line_number <= st_method_end_line:\n",
    "                                if test_name not in tests_covering_the_method.keys():\n",
    "                                    tests_covering_the_method[test_name] = [line_number]\n",
    "                                else:\n",
    "                                    tests_covering_the_method[test_name].append(line_number)\n",
    "            if st_file not in info.keys():\n",
    "                info[st_file] = {}\n",
    "            info[st_file][st_method] = {}\n",
    "            info[st_file][st_method][\"tests_covering_the_method\"] = tests_covering_the_method\n",
    "    utils.dict_to_json_file(new_file_path, info)\n",
    "    print(f\"Updated info for bug {bug} added to the file\")\n",
    "print(\"All collected info added to the files in \"+ paths_dict[\"tests_covering_stack_trace_entries_folder\"])"
   ],
   "metadata": {
    "collapsed": false,
    "ExecuteTime": {
     "end_time": "2023-08-04T00:22:56.658622Z",
     "start_time": "2023-08-03T21:19:46.035218Z"
    }
   }
  },
  {
   "cell_type": "code",
   "execution_count": null,
   "outputs": [],
   "source": [],
   "metadata": {
    "collapsed": false
   }
  }
 ],
 "metadata": {
  "kernelspec": {
   "display_name": "Python 3",
   "language": "python",
   "name": "python3"
  },
  "language_info": {
   "codemirror_mode": {
    "name": "ipython",
    "version": 2
   },
   "file_extension": ".py",
   "mimetype": "text/x-python",
   "name": "python",
   "nbconvert_exporter": "python",
   "pygments_lexer": "ipython2",
   "version": "2.7.6"
  }
 },
 "nbformat": 4,
 "nbformat_minor": 0
}
