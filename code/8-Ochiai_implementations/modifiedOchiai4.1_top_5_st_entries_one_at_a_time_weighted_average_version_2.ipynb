{
 "cells": [
  {
   "cell_type": "markdown",
   "source": [
    "# Modified Ochiai 4.1\n",
    "Fake failing tests set: Tests that cover more lines of each ST method. This process is done for each stack trace entry in the top 5, once at a time. Having the Ochiai scores for each of them, a final ranking is calculated via an average of the scores, same weigths for all of them"
   ],
   "metadata": {
    "collapsed": false
   }
  },
  {
   "cell_type": "code",
   "execution_count": 4,
   "outputs": [],
   "source": [
    "import os\n",
    "from my_secrets import base_path\n",
    "\n",
    "\n",
    "paths_dict=  {\n",
    "    \"ochiai_scores_4.0_files\": os.path.join(base_path, \"DeepDiveBugReportsWithLogs\", \"data\", \"ochiaiScores\", \"modifiedOchiai4.0\"),\n",
    "    \"output_path\": os.path.join(base_path, \"DeepDiveBugReportsWithLogs\", \"data\", \"ochiaiScores\", \"modifiedOchiai4.1\"),\n",
    "    \"tests_analysis_results\":  os.path.join(base_path,\"DeepDiveBugReportsWithLogs\",  \"data\", \"rq1_results.json\"),\n",
    "}"
   ],
   "metadata": {
    "collapsed": false,
    "ExecuteTime": {
     "end_time": "2023-08-29T17:07:38.625246Z",
     "start_time": "2023-08-29T17:07:38.619097Z"
    }
   }
  },
  {
   "cell_type": "markdown",
   "source": [
    "## Getting the final Ochiai scores file with the weighted average"
   ],
   "metadata": {
    "collapsed": false
   }
  },
  {
   "cell_type": "code",
   "execution_count": 6,
   "outputs": [
    {
     "name": "stdout",
     "output_type": "stream",
     "text": [
      "Execution completed\n"
     ]
    }
   ],
   "source": [
    "%run ../utils.py\n",
    "\n",
    "weights_list = [1, 1, 1, 1, 1]\n",
    "tests_analysis_results  = json_file_to_dict(paths_dict[\"tests_analysis_results\"])\n",
    "bugs = get_list_of_bugs_with_coverage(tests_analysis_results)\n",
    "\n",
    "for bug in bugs:\n",
    "    project, bug_id = bug.split(\"_\")\n",
    "    ochiai_scores_folder = os.path.join(paths_dict[\"ochiai_scores_4.0_files\"], project, bug_id)\n",
    "    entries_file_scores = get_json_files(ochiai_scores_folder)\n",
    "    ochiai_scores_data = {}\n",
    "    sum_weights = 0\n",
    "    for entry_number, entry_file in enumerate(entries_file_scores):\n",
    "        entry_data = json_file_to_dict(entry_file)\n",
    "        weight = weights_list[entry_number]\n",
    "        sum_weights += weight\n",
    "        for key in entry_data.keys():\n",
    "            if key not in ochiai_scores_data.keys():\n",
    "                ochiai_scores_data[key] = weight * entry_data[key]\n",
    "            else:\n",
    "                ochiai_scores_data[key] += weight * entry_data[key]\n",
    "    for key in ochiai_scores_data.keys():\n",
    "        ochiai_scores_data[key] = ochiai_scores_data[key]/sum_weights\n",
    "\n",
    "    dict_to_json_file(os.path.join(paths_dict[\"output_path\"], project, bug_id + \".json\"), ochiai_scores_data)\n",
    "\n",
    "print(\"Execution completed\")"
   ],
   "metadata": {
    "collapsed": false,
    "ExecuteTime": {
     "end_time": "2023-08-29T17:18:23.834638Z",
     "start_time": "2023-08-29T17:18:23.034141Z"
    }
   }
  },
  {
   "cell_type": "code",
   "execution_count": null,
   "outputs": [],
   "source": [],
   "metadata": {
    "collapsed": false
   }
  }
 ],
 "metadata": {
  "kernelspec": {
   "display_name": "Python 3",
   "language": "python",
   "name": "python3"
  },
  "language_info": {
   "codemirror_mode": {
    "name": "ipython",
    "version": 2
   },
   "file_extension": ".py",
   "mimetype": "text/x-python",
   "name": "python",
   "nbconvert_exporter": "python",
   "pygments_lexer": "ipython2",
   "version": "2.7.6"
  }
 },
 "nbformat": 4,
 "nbformat_minor": 0
}
