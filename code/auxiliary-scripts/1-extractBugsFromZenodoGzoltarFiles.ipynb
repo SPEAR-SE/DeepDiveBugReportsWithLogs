{
 "cells": [
  {
   "cell_type": "markdown",
   "source": [
    "# Check for the bugs with stack traces in zenodo files and copies the ones found to the folder in gzoltar_files_path\n",
    "This is an Auxiliary Script. It is not necessary to execute this script in the regular flow since the files will be in the repo\n",
    "Obs: this script requires that you download the program_spectra.zip file from https://zenodo.org/record/7922699 in the same folder informed in the base_path secret and decompress it."
   ],
   "metadata": {
    "collapsed": false
   }
  },
  {
   "cell_type": "markdown",
   "source": [
    "### Vars declaration\n"
   ],
   "metadata": {
    "collapsed": false
   }
  },
  {
   "cell_type": "code",
   "execution_count": 5,
   "metadata": {
    "collapsed": true,
    "ExecuteTime": {
     "end_time": "2023-07-11T14:51:55.979039Z",
     "start_time": "2023-07-11T14:51:55.973286Z"
    }
   },
   "outputs": [],
   "source": [
    "import os\n",
    "from my_secrets import base_path\n",
    "\n",
    "paths_dict=  {\n",
    "    \"zenodo_gzoltar_files_path\": os.path.join(base_path, \"program_spectra\", \"vBuggy\"),\n",
    "    \"bugs_data\": os.path.join(base_path, \"DeepDiveBugReportsWithLogs\", \"data\", \"bug_reports_with_stack_traces_details.json\"),\n",
    "    \"gzoltar_files_path\":  os.path.join(base_path, \"DeepDiveBugReportsWithLogs\", \"data\", \"gzoltar_files\"),\n",
    "    \"output_path\": os.path.join(base_path, \"DeepDiveBugReportsWithLogs\", \"data\", \"zenodo_files_results.json\"),\n",
    "}"
   ]
  },
  {
   "cell_type": "markdown",
   "source": [
    "### Code"
   ],
   "metadata": {
    "collapsed": false
   }
  },
  {
   "cell_type": "code",
   "execution_count": null,
   "outputs": [],
   "source": [
    "%run ../utils.py\n",
    "\n",
    "bugs_data = json_file_to_dict(paths_dict[\"bugs_data\"])\n",
    "bugs_with_gzoltar_files = []\n",
    "bugs_without_gzoltar_files = []\n",
    "for project in bugs_data:\n",
    "    for bug_id in bugs_data[project]:\n",
    "        bug_folder_name = project.lower() + \"_\" + bug_id + \"_vBuggy\"\n",
    "        gzoltar_files_path = os.path.join(paths_dict[\"zenodo_gzoltar_files_path\"], project, bug_folder_name, \"txt\")\n",
    "        if os.path.isdir(gzoltar_files_path):\n",
    "            bugs_with_gzoltar_files.append(project + \"_\" + bug_id)\n",
    "            destination_folder = os.path.join(paths_dict[\"gzoltar_files_path\"], project, bug_id)\n",
    "            copy_folder_contents(gzoltar_files_path, destination_folder)\n",
    "        else:\n",
    "            bugs_without_gzoltar_files.append(project + \"_\" + bug_id)\n",
    "\n",
    "print(str(len(bugs_with_gzoltar_files)) + \" bugs found in zenodo files\")\n",
    "print(str(len(bugs_without_gzoltar_files)) + \" not found\")\n",
    "results_dic = {\n",
    "    \"bugs_found\": bugs_with_gzoltar_files,\n",
    "    \"bugs_not_found\": bugs_without_gzoltar_files\n",
    "}\n",
    "dict_to_json_file(paths_dict[\"output_path\"], results_dic)"
   ],
   "metadata": {
    "collapsed": false
   }
  }
 ],
 "metadata": {
  "kernelspec": {
   "display_name": "Python 3",
   "language": "python",
   "name": "python3"
  },
  "language_info": {
   "codemirror_mode": {
    "name": "ipython",
    "version": 2
   },
   "file_extension": ".py",
   "mimetype": "text/x-python",
   "name": "python",
   "nbconvert_exporter": "python",
   "pygments_lexer": "ipython2",
   "version": "2.7.6"
  }
 },
 "nbformat": 4,
 "nbformat_minor": 0
}
