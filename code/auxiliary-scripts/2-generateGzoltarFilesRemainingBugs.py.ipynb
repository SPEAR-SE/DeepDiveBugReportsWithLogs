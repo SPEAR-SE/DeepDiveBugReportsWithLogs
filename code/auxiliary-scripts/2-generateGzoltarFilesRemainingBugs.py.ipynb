{
 "cells": [
  {
   "cell_type": "code",
   "execution_count": 6,
   "metadata": {
    "collapsed": true,
    "ExecuteTime": {
     "end_time": "2023-07-11T20:13:29.433052Z",
     "start_time": "2023-07-11T20:13:29.430906Z"
    }
   },
   "outputs": [],
   "source": [
    "import os\n",
    "from secrets import base_path\n",
    "\n",
    "paths_dict =  {\n",
    "    \"zenodo_files_results\": os.path.join(base_path, \"DeepDiveBugReportsWithLogs\", \"data\", \"zenodo_files_results.json\"),\n",
    "    \"gzoltar_execution_path\": os.path.join(base_path, \"gzoltar_files\", ),\n",
    "    \"defects4j_path\": os.path.join(base_path, \"gzoltar_files\", \"defects4j\"),\n",
    "    \"gzoltar_path\": os.path.join(base_path, \"gzoltar_files\", \"gzoltar\"),\n",
    "    \"bugs_data\": os.path.join(base_path, \"DeepDiveBugReportsWithLogs\", \"data\", \"bug_reports_with_stack_traces_details.json\"),\n",
    "    \"current_path\": os.path.join(base_path, \"DeepDiveBugReportsWithLogs\", \"code\", \"auxiliary-scripts\"),\n",
    "}\n",
    "\n",
    "files_to_copy_per_project = {\n",
    "    \"Cli\": \".defects4j.config defects4j.build.properties build.xml pom.xml maven.xml\"\n",
    "}\n",
    "\n",
    "java_version_for_defects4j_execution = \"1.8.0_292\" # Change according to necessary"
   ]
  },
  {
   "cell_type": "code",
   "execution_count": 7,
   "outputs": [
    {
     "name": "stdout",
     "output_type": "stream",
     "text": [
      "************\n",
      "Cli_14\n",
      "> defects4j checkout -p Cli -v 14b -w /Users/lorenapacheco/Concordia/Masters/gzoltar_files/Cli_14_buggy\n"
     ]
    },
    {
     "name": "stderr",
     "output_type": "stream",
     "text": [
      "Checking out c338c8ac to /Users/lorenapacheco/Concordia/Masters/gzoltar_fil OK\n",
      "Init local repository...................................................... OK\n",
      "Tag post-fix revision...................................................... OK\n",
      "Run post-checkout hook..................................................... OK\n",
      "Excluding broken/flaky tests............................................... OK\n",
      "Excluding broken/flaky tests............................................... OK\n",
      "Initialize fixed program version........................................... OK\n",
      "Apply patch................................................................ OK\n",
      "Initialize buggy program version........................................... OK\n",
      "Diff c338c8ac:b7b2069f..................................................... OK\n",
      "Apply patch................................................................ OK\n",
      "Tag pre-fix revision....................................................... OK\n",
      "Check out program version: Cli-14b......................................... OK\n",
      "Previous HEAD position was dd8f3d5 D4J_Cli_14_BUGGY_VERSION\n",
      "HEAD is now at 8226728 Add missing license headers\n",
      "Running ant (compile)...................................................... "
     ]
    },
    {
     "name": "stdout",
     "output_type": "stream",
     "text": [
      "> defects4j compile\n"
     ]
    },
    {
     "name": "stderr",
     "output_type": "stream",
     "text": [
      "OK\n",
      "Running ant (compile.tests)................................................ OK\n",
      "OpenJDK 64-Bit Server VM warning: ignoring option MaxPermSize=1G; support was removed in 8.0\n",
      "Running ant (export.cp.test)............................................... OK\n",
      "\n",
      "Running ant (compile.tests)................................................ "
     ]
    },
    {
     "name": "stdout",
     "output_type": "stream",
     "text": [
      "> defects4j test\n"
     ]
    },
    {
     "name": "stderr",
     "output_type": "stream",
     "text": [
      "OK\n",
      "Running ant (run.dev.tests)................................................ OK\n",
      "OpenJDK 64-Bit Server VM warning: ignoring option MaxPermSize=1G; support was removed in 8.0\n"
     ]
    },
    {
     "name": "stdout",
     "output_type": "stream",
     "text": [
      "Failing tests: 1\n",
      "  - org.apache.commons.cli2.bug.Bug27575Test::testRequiredOptions\n"
     ]
    },
    {
     "name": "stderr",
     "output_type": "stream",
     "text": [
      "Running ant (export.dir.bin.classes)....................................... OK\n",
      "\n",
      "OpenJDK 64-Bit Server VM warning: ignoring option MaxPermSize=1G; support was removed in 8.0\n",
      "Running ant (export.dir.bin.tests)......................................... "
     ]
    },
    {
     "name": "stdout",
     "output_type": "stream",
     "text": [
      "Cli_14_copy's classpath: /Users/lorenapacheco/.maven/repository/commons-lang/jars/commons-lang-2.1.jar:/Users/lorenapacheco/.maven/repository/junit/jars/junit-3.8.1.jar:/Users/lorenapacheco/.maven/repository/jdepend/jars/jdepend-2.5.jar:/Users/lorenapacheco/Concordia/Masters/gzoltar_files/Cli_14_copy/target/test-classes:/Users/lorenapacheco/Concordia/Masters/gzoltar_files/Cli_14_copy/target/classes:/Users/lorenapacheco/Concordia/Masters/gzoltar_files/Cli_14_copy/file:/Users/lorenapacheco/Concordia/Masters/gzoltar_files/defects4j/framework/projects/lib/junit-4.11.jar:/Users/lorenapacheco/Concordia/Masters/gzoltar_files/defects4j/framework/projects/Cli/lib/commons-lang/commons-lang/2.1/commons-lang-2.1.jar:/Users/lorenapacheco/Concordia/Masters/gzoltar_files/defects4j/framework/projects/Cli/lib/jdepend/jdepend/2.5/jdepend-2.5.jar:/Users/lorenapacheco/Concordia/Masters/gzoltar_files/defects4j/framework/projects/Cli/lib/junit-addons/junit-addons/1.4/junit-addons-1.4.jar:/Users/lorenapacheco/Concordia/Masters/gzoltar_files/defects4j/framework/projects/Cli/lib/junit/junit/3.8.1/junit-3.8.1.jar:/Users/lorenapacheco/Concordia/Masters/gzoltar_files/defects4j/framework/projects/Cli/lib/junit/junit/3.8.2/junit-3.8.2.jar:/Users/lorenapacheco/Concordia/Masters/gzoltar_files/defects4j/framework/projects/Cli/lib/junit/junit/4.11/junit-4.11.jar:/Users/lorenapacheco/Concordia/Masters/gzoltar_files/defects4j/framework/projects/Cli/lib/junit/junit/4.12/junit-4.12.jar:/Users/lorenapacheco/Concordia/Masters/gzoltar_files/defects4j/framework/projects/Cli/lib/junit/junit/4.8.2/junit-4.8.2.jar:/Users/lorenapacheco/Concordia/Masters/gzoltar_files/defects4j/framework/projects/Cli/lib/lib/junit-addons/junit-addons/1.4/junit-addons-1.4.jar:/Users/lorenapacheco/Concordia/Masters/gzoltar_files/defects4j/framework/projects/Cli/lib/lib/junit/junit/3.8.1/junit-3.8.1.jar:/Users/lorenapacheco/Concordia/Masters/gzoltar_files/defects4j/framework/projects/Cli/lib/lib/junit/junit/3.8.2/junit-3.8.2.jar:/Users/lorenapacheco/Concordia/Masters/gzoltar_files/defects4j/framework/projects/Cli/lib/lib/junit/junit/4.11/junit-4.11.jar:/Users/lorenapacheco/Concordia/Masters/gzoltar_files/defects4j/framework/projects/Cli/lib/lib/junit/junit/4.12/junit-4.12.jar:/Users/lorenapacheco/Concordia/Masters/gzoltar_files/defects4j/framework/projects/Cli/lib/lib/junit/junit/4.8.2/junit-4.8.2.jar:/Users/lorenapacheco/Concordia/Masters/gzoltar_files/defects4j/framework/projects/Cli/lib/lib/org/hamcrest/hamcrest-core/1.3/hamcrest-core-1.3.jar:/Users/lorenapacheco/Concordia/Masters/gzoltar_files/defects4j/framework/projects/Cli/lib/org/hamcrest/hamcrest-core/1.3/hamcrest-core-1.3.jar\n",
      "Cli_14_copy's bin dir: /Users/lorenapacheco/Concordia/Masters/gzoltar_files/Cli_14_copy/target/classes\n",
      "Cli_14_copy's test bin dir: /Users/lorenapacheco/Concordia/Masters/gzoltar_files/Cli_14_copy/target/test-classes\n",
      "Done\n"
     ]
    },
    {
     "name": "stderr",
     "output_type": "stream",
     "text": [
      "OK\n",
      "\n"
     ]
    }
   ],
   "source": [
    "%run ../utils.py\n",
    "\n",
    "import subprocess\n",
    "\n",
    "zenodo_files_results = json_file_to_dict(paths_dict[\"zenodo_files_results\"])\n",
    "bugs_data = json_file_to_dict(paths_dict[\"bugs_data\"])\n",
    "for bug_report in zenodo_files_results[\"bugs_not_found\"]:\n",
    "    print(\"************\")\n",
    "    print(bug_report)\n",
    "\n",
    "    project = bug_report.split(\"_\")[0]\n",
    "    bug_id = bug_report.split(\"_\")[1]\n",
    "\n",
    "    bug_report_commit_hash = bugs_data[project][bug_id][\"bug_report_commit_hash\"]\n",
    "\n",
    "    defects4j_buggy_folder = os.path.join(paths_dict[\"gzoltar_execution_path\"], bug_report + \"_buggy\")\n",
    "    defects4j_copy_folder = os.path.join(paths_dict[\"gzoltar_execution_path\"], bug_report + \"_copy\")\n",
    "\n",
    "    # Configuring the environment variables\n",
    "    # 1. Java\n",
    "    java_home = subprocess.check_output([\"/usr/libexec/java_home\", \"-v\", java_version_for_defects4j_execution]).decode().strip() # Making sure the current Java version is 1.8 (defects4j requirement)\n",
    "    os.environ['JAVA_HOME'] = java_home\n",
    "    # 2. defects4j\n",
    "    os.environ[\"PATH\"] += os.pathsep + paths_dict['defects4j_path'] + \"/framework/bin\"\n",
    "    os.environ[\"D4J_HOME\"] = paths_dict['defects4j_path']\n",
    "    os.environ[\"TZ\"] = 'America/Los_Angeles'\n",
    "    os.environ[\"LC_ALL\"] = \"en_US.UTF-8\"\n",
    "    os.environ[\"LANG\"] = \"en_US.UTF-8\"\n",
    "    os.environ[\"LANGUAGE\"] = \"en_US.UTF-8\"\n",
    "    # 3. gzoltar\n",
    "    os.environ['GZOLTAR_AGENT_JAR'] = paths_dict['gzoltar_path'] + \"/gzoltar/com.gzoltar.agent.rt/target/com.gzoltar.agent.rt-1.7.3-SNAPSHOT-all.jar\"\n",
    "    os.environ['GZOLTAR_CLI_JAR'] = paths_dict['gzoltar_path'] + \"/gzoltar/com.gzoltar.cli/target/com.gzoltar.cli-1.7.3-SNAPSHOT-jar-with-dependencies.jar\"\n",
    "\n",
    "    # ----- defects4j part -----\n",
    "\n",
    "    # Running defects4j checkout\n",
    "    defects4j_checkout_cmd = f\"defects4j checkout -p {project} -v {bug_id}b -w {defects4j_buggy_folder}\"\n",
    "    print(\"> \" + defects4j_checkout_cmd)\n",
    "    subprocess.run(defects4j_checkout_cmd, shell=True, check=True)\n",
    "\n",
    "    # Creating a copy of the folder\n",
    "    copy_folder_cmd = f\"cp -r {defects4j_buggy_folder} {defects4j_copy_folder}\"\n",
    "    subprocess.run(copy_folder_cmd, shell=True, check=True)\n",
    "\n",
    "    # Checkout in the bug report commit in the copy folder\n",
    "    checkout_commit_cmd = f\"git checkout {bug_report_commit_hash}\"\n",
    "    subprocess.run(checkout_commit_cmd, shell=True, check=True, cwd=defects4j_copy_folder)\n",
    "\n",
    "    # Copying defects4j important files to the copy folder\n",
    "    copy_files_cmd = f\"cp {files_to_copy_per_project[project]} {defects4j_copy_folder}\"\n",
    "    subprocess.run(copy_files_cmd, shell=True, check=True, cwd=defects4j_buggy_folder)\n",
    "    cmd = \"echo 'org.apache.commons.**.*' > all-classes.txt\"\n",
    "    subprocess.run(cmd, shell=True, check=True, cwd=defects4j_copy_folder)\n",
    "\n",
    "    if bug_report == \"Cli_14\":\n",
    "        remove_non_utf8_characters(defects4j_copy_folder + \"/src/test/org/apache/commons/cli2/bug/BugLoopingOptionLookAlikeTest.java\")\n",
    "\n",
    "    # Defects4j compile\n",
    "    defects4j_compile_cmd = \"defects4j compile\"\n",
    "    print(\"> \" + defects4j_compile_cmd)\n",
    "    subprocess.run(defects4j_compile_cmd, shell=True, check=True, cwd=defects4j_copy_folder)\n",
    "\n",
    "    # ---- Gzoltar part ------\n",
    "\n",
    "    # Navigate to the directory\n",
    "    os.chdir(defects4j_copy_folder)\n",
    "\n",
    "    # Get test classpath\n",
    "    test_classpath = subprocess.check_output([\"defects4j\", \"export\", \"-p\", \"cp.test\"]).decode().strip()\n",
    "    # Defects4j test\n",
    "    defects4j_test_cmd = \"defects4j test\"\n",
    "    print(\"> \" + defects4j_test_cmd)\n",
    "    subprocess.run(defects4j_test_cmd, shell=True, check=True, cwd=defects4j_copy_folder)\n",
    "\n",
    "    # Get source classes directory\n",
    "    src_classes_dir_output = subprocess.check_output([\"defects4j\", \"export\", \"-p\", \"dir.bin.classes\"]).decode().strip()\n",
    "    src_classes_dir = os.path.join(defects4j_copy_folder, src_classes_dir_output)\n",
    "\n",
    "    # Get test classes directory\n",
    "    test_classes_dir_output = subprocess.check_output([\"defects4j\", \"export\", \"-p\", \"dir.bin.tests\"]).decode().strip()\n",
    "    test_classes_dir = os.path.join(defects4j_copy_folder, test_classes_dir_output)\n",
    "\n",
    "    print(f\"{project}_{bug_id}_copy's classpath: {test_classpath}\")\n",
    "    print(f\"{project}_{bug_id}_copy's bin dir: {src_classes_dir}\")\n",
    "    print(f\"{project}_{bug_id}_copy's test bin dir: {test_classes_dir}\")\n",
    "\n",
    "    # -------\n",
    "\n",
    "    # Remove the created folders to free the space\n",
    "    delete_folders_cmd = f\"\"\"\n",
    "        rm -rf {defects4j_buggy_folder};\n",
    "        rm -rf {defects4j_copy_folder}\"\"\"\n",
    "    subprocess.run(delete_folders_cmd, shell=True, check=True)\n",
    "\n",
    "    # Coming back to the project's folder\n",
    "    os.chdir(paths_dict[\"current_path\"])\n",
    "\n",
    "    print(\"Done\")\n",
    "    break"
   ],
   "metadata": {
    "collapsed": false,
    "ExecuteTime": {
     "end_time": "2023-07-11T20:13:47.553868Z",
     "start_time": "2023-07-11T20:13:32.841901Z"
    }
   }
  },
  {
   "cell_type": "code",
   "execution_count": null,
   "outputs": [],
   "source": [],
   "metadata": {
    "collapsed": false
   }
  }
 ],
 "metadata": {
  "kernelspec": {
   "display_name": "Python 3",
   "language": "python",
   "name": "python3"
  },
  "language_info": {
   "codemirror_mode": {
    "name": "ipython",
    "version": 2
   },
   "file_extension": ".py",
   "mimetype": "text/x-python",
   "name": "python",
   "nbconvert_exporter": "python",
   "pygments_lexer": "ipython2",
   "version": "2.7.6"
  }
 },
 "nbformat": 4,
 "nbformat_minor": 0
}
